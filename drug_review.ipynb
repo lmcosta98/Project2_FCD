{
 "cells": [
  {
   "cell_type": "markdown",
   "metadata": {},
   "source": [
    "# Drug Review Analysis"
   ]
  },
  {
   "cell_type": "code",
   "execution_count": 2,
   "metadata": {},
   "outputs": [],
   "source": [
    "#!pip install imblearn"
   ]
  },
  {
   "cell_type": "code",
   "execution_count": 73,
   "metadata": {},
   "outputs": [],
   "source": [
    "import pandas as pd\n",
    "import numpy as np\n",
    "import matplotlib.pyplot as plt\n",
    "import seaborn as sns\n",
    "import re\n",
    "\n",
    "from sklearn.utils import shuffle\n",
    "from sklearn.pipeline import Pipeline\n",
    "from imblearn.over_sampling import SMOTE\n",
    "from sklearn.preprocessing import LabelEncoder\n",
    "from sklearn.feature_extraction.text import TfidfVectorizer\n",
    "from sklearn.svm import SVC\n",
    "from sklearn.ensemble import RandomForestClassifier\n",
    "from sklearn import metrics\n",
    "from nltk.stem.snowball import SnowballStemmer\n",
    "from nltk.corpus import stopwords\n",
    "\n",
    "from sklearn.experimental import enable_halving_search_cv\n",
    "from sklearn.model_selection import HalvingGridSearchCV\n",
    "\n",
    "from IPython.display import display_html\n",
    "\n",
    "sns.set_theme()"
   ]
  },
  {
   "cell_type": "markdown",
   "metadata": {},
   "source": [
    "## Initial data import and analysis"
   ]
  },
  {
   "cell_type": "code",
   "execution_count": 4,
   "metadata": {},
   "outputs": [
    {
     "data": {
      "text/html": [
       "<div>\n",
       "<style scoped>\n",
       "    .dataframe tbody tr th:only-of-type {\n",
       "        vertical-align: middle;\n",
       "    }\n",
       "\n",
       "    .dataframe tbody tr th {\n",
       "        vertical-align: top;\n",
       "    }\n",
       "\n",
       "    .dataframe thead th {\n",
       "        text-align: right;\n",
       "    }\n",
       "</style>\n",
       "<table border=\"1\" class=\"dataframe\">\n",
       "  <thead>\n",
       "    <tr style=\"text-align: right;\">\n",
       "      <th></th>\n",
       "      <th>id</th>\n",
       "      <th>drug</th>\n",
       "      <th>rating</th>\n",
       "      <th>effectiveness</th>\n",
       "      <th>side_effects</th>\n",
       "      <th>condition</th>\n",
       "      <th>benefits_review</th>\n",
       "      <th>side_effects_review</th>\n",
       "      <th>comments_review</th>\n",
       "    </tr>\n",
       "  </thead>\n",
       "  <tbody>\n",
       "    <tr>\n",
       "      <th>0</th>\n",
       "      <td>2202</td>\n",
       "      <td>enalapril</td>\n",
       "      <td>4</td>\n",
       "      <td>Highly Effective</td>\n",
       "      <td>Mild Side Effects</td>\n",
       "      <td>management of congestive heart failure</td>\n",
       "      <td>slowed the progression of left ventricular dys...</td>\n",
       "      <td>cough, hypotension , proteinuria, impotence , ...</td>\n",
       "      <td>monitor blood pressure , weight and asses for ...</td>\n",
       "    </tr>\n",
       "    <tr>\n",
       "      <th>1</th>\n",
       "      <td>3117</td>\n",
       "      <td>ortho-tri-cyclen</td>\n",
       "      <td>1</td>\n",
       "      <td>Highly Effective</td>\n",
       "      <td>Severe Side Effects</td>\n",
       "      <td>birth prevention</td>\n",
       "      <td>Although this type of birth control has more c...</td>\n",
       "      <td>Heavy Cycle, Cramps, Hot Flashes, Fatigue, Lon...</td>\n",
       "      <td>I Hate This Birth Control, I Would Not Suggest...</td>\n",
       "    </tr>\n",
       "    <tr>\n",
       "      <th>2</th>\n",
       "      <td>1146</td>\n",
       "      <td>ponstel</td>\n",
       "      <td>10</td>\n",
       "      <td>Highly Effective</td>\n",
       "      <td>No Side Effects</td>\n",
       "      <td>menstrual cramps</td>\n",
       "      <td>I was used to having cramps so badly that they...</td>\n",
       "      <td>Heavier bleeding and clotting than normal.</td>\n",
       "      <td>I took 2 pills at the onset of my menstrual cr...</td>\n",
       "    </tr>\n",
       "    <tr>\n",
       "      <th>3</th>\n",
       "      <td>3947</td>\n",
       "      <td>prilosec</td>\n",
       "      <td>3</td>\n",
       "      <td>Marginally Effective</td>\n",
       "      <td>Mild Side Effects</td>\n",
       "      <td>acid reflux</td>\n",
       "      <td>The acid reflux went away for a few months aft...</td>\n",
       "      <td>Constipation, dry mouth and some mild dizzines...</td>\n",
       "      <td>I was given Prilosec prescription at a dose of...</td>\n",
       "    </tr>\n",
       "    <tr>\n",
       "      <th>4</th>\n",
       "      <td>1951</td>\n",
       "      <td>lyrica</td>\n",
       "      <td>2</td>\n",
       "      <td>Marginally Effective</td>\n",
       "      <td>Severe Side Effects</td>\n",
       "      <td>fibromyalgia</td>\n",
       "      <td>I think that the Lyrica was starting to help w...</td>\n",
       "      <td>I felt extremely drugged and dopey.  Could not...</td>\n",
       "      <td>See above</td>\n",
       "    </tr>\n",
       "  </tbody>\n",
       "</table>\n",
       "</div>"
      ],
      "text/plain": [
       "     id              drug  rating         effectiveness         side_effects  \\\n",
       "0  2202         enalapril       4      Highly Effective    Mild Side Effects   \n",
       "1  3117  ortho-tri-cyclen       1      Highly Effective  Severe Side Effects   \n",
       "2  1146           ponstel      10      Highly Effective      No Side Effects   \n",
       "3  3947          prilosec       3  Marginally Effective    Mild Side Effects   \n",
       "4  1951            lyrica       2  Marginally Effective  Severe Side Effects   \n",
       "\n",
       "                                condition  \\\n",
       "0  management of congestive heart failure   \n",
       "1                        birth prevention   \n",
       "2                        menstrual cramps   \n",
       "3                             acid reflux   \n",
       "4                            fibromyalgia   \n",
       "\n",
       "                                     benefits_review  \\\n",
       "0  slowed the progression of left ventricular dys...   \n",
       "1  Although this type of birth control has more c...   \n",
       "2  I was used to having cramps so badly that they...   \n",
       "3  The acid reflux went away for a few months aft...   \n",
       "4  I think that the Lyrica was starting to help w...   \n",
       "\n",
       "                                 side_effects_review  \\\n",
       "0  cough, hypotension , proteinuria, impotence , ...   \n",
       "1  Heavy Cycle, Cramps, Hot Flashes, Fatigue, Lon...   \n",
       "2         Heavier bleeding and clotting than normal.   \n",
       "3  Constipation, dry mouth and some mild dizzines...   \n",
       "4  I felt extremely drugged and dopey.  Could not...   \n",
       "\n",
       "                                     comments_review  \n",
       "0  monitor blood pressure , weight and asses for ...  \n",
       "1  I Hate This Birth Control, I Would Not Suggest...  \n",
       "2  I took 2 pills at the onset of my menstrual cr...  \n",
       "3  I was given Prilosec prescription at a dose of...  \n",
       "4                                          See above  "
      ]
     },
     "execution_count": 4,
     "metadata": {},
     "output_type": "execute_result"
    }
   ],
   "source": [
    "train_data = pd.read_csv('drugLib_raw/drugLibTrain_raw.tsv', sep='\\t', header=0, names=['id', 'drug', 'rating', 'effectiveness', 'side_effects', 'condition', 'benefits_review', 'side_effects_review', 'comments_review'])\n",
    "train_data.head()"
   ]
  },
  {
   "cell_type": "markdown",
   "metadata": {},
   "source": [
    "### Droping 'id' column because it doesn't add any relevant information"
   ]
  },
  {
   "cell_type": "code",
   "execution_count": 5,
   "metadata": {},
   "outputs": [
    {
     "data": {
      "text/html": [
       "<div>\n",
       "<style scoped>\n",
       "    .dataframe tbody tr th:only-of-type {\n",
       "        vertical-align: middle;\n",
       "    }\n",
       "\n",
       "    .dataframe tbody tr th {\n",
       "        vertical-align: top;\n",
       "    }\n",
       "\n",
       "    .dataframe thead th {\n",
       "        text-align: right;\n",
       "    }\n",
       "</style>\n",
       "<table border=\"1\" class=\"dataframe\">\n",
       "  <thead>\n",
       "    <tr style=\"text-align: right;\">\n",
       "      <th></th>\n",
       "      <th>drug</th>\n",
       "      <th>rating</th>\n",
       "      <th>effectiveness</th>\n",
       "      <th>side_effects</th>\n",
       "      <th>condition</th>\n",
       "      <th>benefits_review</th>\n",
       "      <th>side_effects_review</th>\n",
       "      <th>comments_review</th>\n",
       "    </tr>\n",
       "  </thead>\n",
       "  <tbody>\n",
       "    <tr>\n",
       "      <th>0</th>\n",
       "      <td>enalapril</td>\n",
       "      <td>4</td>\n",
       "      <td>Highly Effective</td>\n",
       "      <td>Mild Side Effects</td>\n",
       "      <td>management of congestive heart failure</td>\n",
       "      <td>slowed the progression of left ventricular dys...</td>\n",
       "      <td>cough, hypotension , proteinuria, impotence , ...</td>\n",
       "      <td>monitor blood pressure , weight and asses for ...</td>\n",
       "    </tr>\n",
       "    <tr>\n",
       "      <th>1</th>\n",
       "      <td>ortho-tri-cyclen</td>\n",
       "      <td>1</td>\n",
       "      <td>Highly Effective</td>\n",
       "      <td>Severe Side Effects</td>\n",
       "      <td>birth prevention</td>\n",
       "      <td>Although this type of birth control has more c...</td>\n",
       "      <td>Heavy Cycle, Cramps, Hot Flashes, Fatigue, Lon...</td>\n",
       "      <td>I Hate This Birth Control, I Would Not Suggest...</td>\n",
       "    </tr>\n",
       "    <tr>\n",
       "      <th>2</th>\n",
       "      <td>ponstel</td>\n",
       "      <td>10</td>\n",
       "      <td>Highly Effective</td>\n",
       "      <td>No Side Effects</td>\n",
       "      <td>menstrual cramps</td>\n",
       "      <td>I was used to having cramps so badly that they...</td>\n",
       "      <td>Heavier bleeding and clotting than normal.</td>\n",
       "      <td>I took 2 pills at the onset of my menstrual cr...</td>\n",
       "    </tr>\n",
       "    <tr>\n",
       "      <th>3</th>\n",
       "      <td>prilosec</td>\n",
       "      <td>3</td>\n",
       "      <td>Marginally Effective</td>\n",
       "      <td>Mild Side Effects</td>\n",
       "      <td>acid reflux</td>\n",
       "      <td>The acid reflux went away for a few months aft...</td>\n",
       "      <td>Constipation, dry mouth and some mild dizzines...</td>\n",
       "      <td>I was given Prilosec prescription at a dose of...</td>\n",
       "    </tr>\n",
       "    <tr>\n",
       "      <th>4</th>\n",
       "      <td>lyrica</td>\n",
       "      <td>2</td>\n",
       "      <td>Marginally Effective</td>\n",
       "      <td>Severe Side Effects</td>\n",
       "      <td>fibromyalgia</td>\n",
       "      <td>I think that the Lyrica was starting to help w...</td>\n",
       "      <td>I felt extremely drugged and dopey.  Could not...</td>\n",
       "      <td>See above</td>\n",
       "    </tr>\n",
       "  </tbody>\n",
       "</table>\n",
       "</div>"
      ],
      "text/plain": [
       "               drug  rating         effectiveness         side_effects  \\\n",
       "0         enalapril       4      Highly Effective    Mild Side Effects   \n",
       "1  ortho-tri-cyclen       1      Highly Effective  Severe Side Effects   \n",
       "2           ponstel      10      Highly Effective      No Side Effects   \n",
       "3          prilosec       3  Marginally Effective    Mild Side Effects   \n",
       "4            lyrica       2  Marginally Effective  Severe Side Effects   \n",
       "\n",
       "                                condition  \\\n",
       "0  management of congestive heart failure   \n",
       "1                        birth prevention   \n",
       "2                        menstrual cramps   \n",
       "3                             acid reflux   \n",
       "4                            fibromyalgia   \n",
       "\n",
       "                                     benefits_review  \\\n",
       "0  slowed the progression of left ventricular dys...   \n",
       "1  Although this type of birth control has more c...   \n",
       "2  I was used to having cramps so badly that they...   \n",
       "3  The acid reflux went away for a few months aft...   \n",
       "4  I think that the Lyrica was starting to help w...   \n",
       "\n",
       "                                 side_effects_review  \\\n",
       "0  cough, hypotension , proteinuria, impotence , ...   \n",
       "1  Heavy Cycle, Cramps, Hot Flashes, Fatigue, Lon...   \n",
       "2         Heavier bleeding and clotting than normal.   \n",
       "3  Constipation, dry mouth and some mild dizzines...   \n",
       "4  I felt extremely drugged and dopey.  Could not...   \n",
       "\n",
       "                                     comments_review  \n",
       "0  monitor blood pressure , weight and asses for ...  \n",
       "1  I Hate This Birth Control, I Would Not Suggest...  \n",
       "2  I took 2 pills at the onset of my menstrual cr...  \n",
       "3  I was given Prilosec prescription at a dose of...  \n",
       "4                                          See above  "
      ]
     },
     "execution_count": 5,
     "metadata": {},
     "output_type": "execute_result"
    }
   ],
   "source": [
    "train_data.drop(columns='id', inplace=True)\n",
    "train_data.head()"
   ]
  },
  {
   "cell_type": "markdown",
   "metadata": {},
   "source": [
    "### Checking data types and presence of NaNs"
   ]
  },
  {
   "cell_type": "code",
   "execution_count": 6,
   "metadata": {},
   "outputs": [
    {
     "name": "stdout",
     "output_type": "stream",
     "text": [
      "<class 'pandas.core.frame.DataFrame'>\n",
      "RangeIndex: 3107 entries, 0 to 3106\n",
      "Data columns (total 8 columns):\n",
      " #   Column               Non-Null Count  Dtype \n",
      "---  ------               --------------  ----- \n",
      " 0   drug                 3107 non-null   object\n",
      " 1   rating               3107 non-null   int64 \n",
      " 2   effectiveness        3107 non-null   object\n",
      " 3   side_effects         3107 non-null   object\n",
      " 4   condition            3106 non-null   object\n",
      " 5   benefits_review      3107 non-null   object\n",
      " 6   side_effects_review  3105 non-null   object\n",
      " 7   comments_review      3099 non-null   object\n",
      "dtypes: int64(1), object(7)\n",
      "memory usage: 194.3+ KB\n"
     ]
    }
   ],
   "source": [
    "train_data.info()"
   ]
  },
  {
   "cell_type": "code",
   "execution_count": 7,
   "metadata": {},
   "outputs": [
    {
     "data": {
      "text/plain": [
       "drug                   False\n",
       "rating                 False\n",
       "effectiveness          False\n",
       "side_effects           False\n",
       "condition               True\n",
       "benefits_review        False\n",
       "side_effects_review     True\n",
       "comments_review         True\n",
       "dtype: bool"
      ]
     },
     "execution_count": 7,
     "metadata": {},
     "output_type": "execute_result"
    }
   ],
   "source": [
    "# Checking which columns have NaNs\n",
    "train_data.isna().any()"
   ]
  },
  {
   "cell_type": "code",
   "execution_count": 8,
   "metadata": {},
   "outputs": [
    {
     "data": {
      "text/plain": [
       "11"
      ]
     },
     "execution_count": 8,
     "metadata": {},
     "output_type": "execute_result"
    }
   ],
   "source": [
    "# Checking how many rows are affected by NaNs\n",
    "train_data[train_data.isna().any(axis=1)].shape[0]"
   ]
  },
  {
   "cell_type": "code",
   "execution_count": 9,
   "metadata": {},
   "outputs": [
    {
     "data": {
      "text/html": [
       "<div>\n",
       "<style scoped>\n",
       "    .dataframe tbody tr th:only-of-type {\n",
       "        vertical-align: middle;\n",
       "    }\n",
       "\n",
       "    .dataframe tbody tr th {\n",
       "        vertical-align: top;\n",
       "    }\n",
       "\n",
       "    .dataframe thead th {\n",
       "        text-align: right;\n",
       "    }\n",
       "</style>\n",
       "<table border=\"1\" class=\"dataframe\">\n",
       "  <thead>\n",
       "    <tr style=\"text-align: right;\">\n",
       "      <th></th>\n",
       "      <th>drug</th>\n",
       "      <th>rating</th>\n",
       "      <th>effectiveness</th>\n",
       "      <th>side_effects</th>\n",
       "      <th>condition</th>\n",
       "      <th>benefits_review</th>\n",
       "      <th>side_effects_review</th>\n",
       "      <th>comments_review</th>\n",
       "    </tr>\n",
       "  </thead>\n",
       "  <tbody>\n",
       "    <tr>\n",
       "      <th>147</th>\n",
       "      <td>doxycycline</td>\n",
       "      <td>4</td>\n",
       "      <td>Moderately Effective</td>\n",
       "      <td>Severe Side Effects</td>\n",
       "      <td>epididymitus</td>\n",
       "      <td>Treatment cleared up the infection.</td>\n",
       "      <td>Treatment ended 2 months ago and have still go...</td>\n",
       "      <td>NaN</td>\n",
       "    </tr>\n",
       "    <tr>\n",
       "      <th>400</th>\n",
       "      <td>hyzaar</td>\n",
       "      <td>8</td>\n",
       "      <td>Highly Effective</td>\n",
       "      <td>Moderate Side Effects</td>\n",
       "      <td>hypertension</td>\n",
       "      <td>Pills helped to lower my blood pressure.  Also...</td>\n",
       "      <td>Back pain, especially after a missed dose.  In...</td>\n",
       "      <td>NaN</td>\n",
       "    </tr>\n",
       "    <tr>\n",
       "      <th>407</th>\n",
       "      <td>ritalin-la</td>\n",
       "      <td>8</td>\n",
       "      <td>Considerably Effective</td>\n",
       "      <td>Mild Side Effects</td>\n",
       "      <td>adhd</td>\n",
       "      <td>This medication enabled me to think clearly.  ...</td>\n",
       "      <td>This medication caused me to be nervous, tremb...</td>\n",
       "      <td>NaN</td>\n",
       "    </tr>\n",
       "    <tr>\n",
       "      <th>1238</th>\n",
       "      <td>seasonique</td>\n",
       "      <td>9</td>\n",
       "      <td>Highly Effective</td>\n",
       "      <td>Mild Side Effects</td>\n",
       "      <td>prevent menstral migranes</td>\n",
       "      <td>Experienced 1 migrane in the past year since o...</td>\n",
       "      <td>Noticed light skin iritation.  Take the light ...</td>\n",
       "      <td>NaN</td>\n",
       "    </tr>\n",
       "    <tr>\n",
       "      <th>1468</th>\n",
       "      <td>seasonique</td>\n",
       "      <td>4</td>\n",
       "      <td>Considerably Effective</td>\n",
       "      <td>Moderate Side Effects</td>\n",
       "      <td>preventing pregnancy</td>\n",
       "      <td>preventing pregnancy</td>\n",
       "      <td>This pill was great b/c i didn't have any peri...</td>\n",
       "      <td>NaN</td>\n",
       "    </tr>\n",
       "    <tr>\n",
       "      <th>1965</th>\n",
       "      <td>xenical</td>\n",
       "      <td>3</td>\n",
       "      <td>Marginally Effective</td>\n",
       "      <td>No Side Effects</td>\n",
       "      <td>over weight</td>\n",
       "      <td>i have been on xenical for a little over 2 wee...</td>\n",
       "      <td>i dont have any other then now i am constipated</td>\n",
       "      <td>NaN</td>\n",
       "    </tr>\n",
       "    <tr>\n",
       "      <th>2402</th>\n",
       "      <td>levothroid</td>\n",
       "      <td>10</td>\n",
       "      <td>Highly Effective</td>\n",
       "      <td>No Side Effects</td>\n",
       "      <td>thyroid</td>\n",
       "      <td>balancing of thyroid back to normal range. Pri...</td>\n",
       "      <td>NaN</td>\n",
       "      <td>.1mg daily orally.</td>\n",
       "    </tr>\n",
       "    <tr>\n",
       "      <th>2488</th>\n",
       "      <td>keflex</td>\n",
       "      <td>2</td>\n",
       "      <td>Ineffective</td>\n",
       "      <td>No Side Effects</td>\n",
       "      <td>NaN</td>\n",
       "      <td>None.  I had a bacterial infection accompanyin...</td>\n",
       "      <td>The only good point I suppose is that there wa...</td>\n",
       "      <td>Absoutely innefective.  I easily could have be...</td>\n",
       "    </tr>\n",
       "    <tr>\n",
       "      <th>2705</th>\n",
       "      <td>flonase</td>\n",
       "      <td>8</td>\n",
       "      <td>Considerably Effective</td>\n",
       "      <td>No Side Effects</td>\n",
       "      <td>plugged up nose related to seasonal allergies</td>\n",
       "      <td>cleared up nose</td>\n",
       "      <td>none</td>\n",
       "      <td>NaN</td>\n",
       "    </tr>\n",
       "    <tr>\n",
       "      <th>2891</th>\n",
       "      <td>doxycycline</td>\n",
       "      <td>6</td>\n",
       "      <td>Moderately Effective</td>\n",
       "      <td>No Side Effects</td>\n",
       "      <td>acne</td>\n",
       "      <td>Controlled acne breakouts to some extent when ...</td>\n",
       "      <td>NaN</td>\n",
       "      <td>Took Doxylin 50 mg once daily for 3 months.  I...</td>\n",
       "    </tr>\n",
       "    <tr>\n",
       "      <th>2921</th>\n",
       "      <td>ceclor</td>\n",
       "      <td>1</td>\n",
       "      <td>Ineffective</td>\n",
       "      <td>Severe Side Effects</td>\n",
       "      <td>ear infection</td>\n",
       "      <td>My son had an allergic reaction.  He broke out...</td>\n",
       "      <td>Time - let them go away on their own</td>\n",
       "      <td>NaN</td>\n",
       "    </tr>\n",
       "  </tbody>\n",
       "</table>\n",
       "</div>"
      ],
      "text/plain": [
       "             drug  rating           effectiveness           side_effects  \\\n",
       "147   doxycycline       4    Moderately Effective    Severe Side Effects   \n",
       "400        hyzaar       8        Highly Effective  Moderate Side Effects   \n",
       "407    ritalin-la       8  Considerably Effective      Mild Side Effects   \n",
       "1238   seasonique       9        Highly Effective      Mild Side Effects   \n",
       "1468   seasonique       4  Considerably Effective  Moderate Side Effects   \n",
       "1965      xenical       3    Marginally Effective        No Side Effects   \n",
       "2402   levothroid      10        Highly Effective        No Side Effects   \n",
       "2488       keflex       2             Ineffective        No Side Effects   \n",
       "2705      flonase       8  Considerably Effective        No Side Effects   \n",
       "2891  doxycycline       6    Moderately Effective        No Side Effects   \n",
       "2921       ceclor       1             Ineffective    Severe Side Effects   \n",
       "\n",
       "                                          condition  \\\n",
       "147                                    epididymitus   \n",
       "400                                    hypertension   \n",
       "407                                            adhd   \n",
       "1238                      prevent menstral migranes   \n",
       "1468                           preventing pregnancy   \n",
       "1965                                    over weight   \n",
       "2402                                        thyroid   \n",
       "2488                                            NaN   \n",
       "2705  plugged up nose related to seasonal allergies   \n",
       "2891                                           acne   \n",
       "2921                                  ear infection   \n",
       "\n",
       "                                        benefits_review  \\\n",
       "147                 Treatment cleared up the infection.   \n",
       "400   Pills helped to lower my blood pressure.  Also...   \n",
       "407   This medication enabled me to think clearly.  ...   \n",
       "1238  Experienced 1 migrane in the past year since o...   \n",
       "1468                               preventing pregnancy   \n",
       "1965  i have been on xenical for a little over 2 wee...   \n",
       "2402  balancing of thyroid back to normal range. Pri...   \n",
       "2488  None.  I had a bacterial infection accompanyin...   \n",
       "2705                                    cleared up nose   \n",
       "2891  Controlled acne breakouts to some extent when ...   \n",
       "2921  My son had an allergic reaction.  He broke out...   \n",
       "\n",
       "                                    side_effects_review  \\\n",
       "147   Treatment ended 2 months ago and have still go...   \n",
       "400   Back pain, especially after a missed dose.  In...   \n",
       "407   This medication caused me to be nervous, tremb...   \n",
       "1238  Noticed light skin iritation.  Take the light ...   \n",
       "1468  This pill was great b/c i didn't have any peri...   \n",
       "1965    i dont have any other then now i am constipated   \n",
       "2402                                                NaN   \n",
       "2488  The only good point I suppose is that there wa...   \n",
       "2705                                               none   \n",
       "2891                                                NaN   \n",
       "2921               Time - let them go away on their own   \n",
       "\n",
       "                                        comments_review  \n",
       "147                                                 NaN  \n",
       "400                                                 NaN  \n",
       "407                                                 NaN  \n",
       "1238                                                NaN  \n",
       "1468                                                NaN  \n",
       "1965                                                NaN  \n",
       "2402                                 .1mg daily orally.  \n",
       "2488  Absoutely innefective.  I easily could have be...  \n",
       "2705                                                NaN  \n",
       "2891  Took Doxylin 50 mg once daily for 3 months.  I...  \n",
       "2921                                                NaN  "
      ]
     },
     "execution_count": 9,
     "metadata": {},
     "output_type": "execute_result"
    }
   ],
   "source": [
    "# Visualizing the rows that have NaNs\n",
    "train_data[train_data.isna().any(axis=1)]"
   ]
  },
  {
   "cell_type": "markdown",
   "metadata": {},
   "source": [
    "### Handling NaNs"
   ]
  },
  {
   "cell_type": "code",
   "execution_count": 10,
   "metadata": {},
   "outputs": [],
   "source": [
    "# The NaNs present on the side_effects_reviews column correspond to drugs that had no side effects.\n",
    "# Since we have a small dataset, it was decided to fill those NaNs with a string saying 'no side effects'.\n",
    "train_data.fillna({'side_effects_review': 'no side effects'}, inplace=True)\n",
    "\n",
    "# Checking if it worked\n",
    "#train_data[train_data.isna().any(axis=1)].shape"
   ]
  },
  {
   "cell_type": "code",
   "execution_count": 11,
   "metadata": {},
   "outputs": [
    {
     "data": {
      "text/html": [
       "<div>\n",
       "<style scoped>\n",
       "    .dataframe tbody tr th:only-of-type {\n",
       "        vertical-align: middle;\n",
       "    }\n",
       "\n",
       "    .dataframe tbody tr th {\n",
       "        vertical-align: top;\n",
       "    }\n",
       "\n",
       "    .dataframe thead th {\n",
       "        text-align: right;\n",
       "    }\n",
       "</style>\n",
       "<table border=\"1\" class=\"dataframe\">\n",
       "  <thead>\n",
       "    <tr style=\"text-align: right;\">\n",
       "      <th></th>\n",
       "      <th>drug</th>\n",
       "      <th>rating</th>\n",
       "      <th>effectiveness</th>\n",
       "      <th>side_effects</th>\n",
       "      <th>condition</th>\n",
       "      <th>benefits_review</th>\n",
       "      <th>side_effects_review</th>\n",
       "      <th>comments_review</th>\n",
       "    </tr>\n",
       "  </thead>\n",
       "  <tbody>\n",
       "    <tr>\n",
       "      <th>147</th>\n",
       "      <td>doxycycline</td>\n",
       "      <td>4</td>\n",
       "      <td>Moderately Effective</td>\n",
       "      <td>Severe Side Effects</td>\n",
       "      <td>epididymitus</td>\n",
       "      <td>Treatment cleared up the infection.</td>\n",
       "      <td>Treatment ended 2 months ago and have still go...</td>\n",
       "      <td>NaN</td>\n",
       "    </tr>\n",
       "    <tr>\n",
       "      <th>400</th>\n",
       "      <td>hyzaar</td>\n",
       "      <td>8</td>\n",
       "      <td>Highly Effective</td>\n",
       "      <td>Moderate Side Effects</td>\n",
       "      <td>hypertension</td>\n",
       "      <td>Pills helped to lower my blood pressure.  Also...</td>\n",
       "      <td>Back pain, especially after a missed dose.  In...</td>\n",
       "      <td>NaN</td>\n",
       "    </tr>\n",
       "    <tr>\n",
       "      <th>407</th>\n",
       "      <td>ritalin-la</td>\n",
       "      <td>8</td>\n",
       "      <td>Considerably Effective</td>\n",
       "      <td>Mild Side Effects</td>\n",
       "      <td>adhd</td>\n",
       "      <td>This medication enabled me to think clearly.  ...</td>\n",
       "      <td>This medication caused me to be nervous, tremb...</td>\n",
       "      <td>NaN</td>\n",
       "    </tr>\n",
       "    <tr>\n",
       "      <th>1238</th>\n",
       "      <td>seasonique</td>\n",
       "      <td>9</td>\n",
       "      <td>Highly Effective</td>\n",
       "      <td>Mild Side Effects</td>\n",
       "      <td>prevent menstral migranes</td>\n",
       "      <td>Experienced 1 migrane in the past year since o...</td>\n",
       "      <td>Noticed light skin iritation.  Take the light ...</td>\n",
       "      <td>NaN</td>\n",
       "    </tr>\n",
       "    <tr>\n",
       "      <th>1468</th>\n",
       "      <td>seasonique</td>\n",
       "      <td>4</td>\n",
       "      <td>Considerably Effective</td>\n",
       "      <td>Moderate Side Effects</td>\n",
       "      <td>preventing pregnancy</td>\n",
       "      <td>preventing pregnancy</td>\n",
       "      <td>This pill was great b/c i didn't have any peri...</td>\n",
       "      <td>NaN</td>\n",
       "    </tr>\n",
       "    <tr>\n",
       "      <th>1965</th>\n",
       "      <td>xenical</td>\n",
       "      <td>3</td>\n",
       "      <td>Marginally Effective</td>\n",
       "      <td>No Side Effects</td>\n",
       "      <td>over weight</td>\n",
       "      <td>i have been on xenical for a little over 2 wee...</td>\n",
       "      <td>i dont have any other then now i am constipated</td>\n",
       "      <td>NaN</td>\n",
       "    </tr>\n",
       "    <tr>\n",
       "      <th>2488</th>\n",
       "      <td>keflex</td>\n",
       "      <td>2</td>\n",
       "      <td>Ineffective</td>\n",
       "      <td>No Side Effects</td>\n",
       "      <td>NaN</td>\n",
       "      <td>None.  I had a bacterial infection accompanyin...</td>\n",
       "      <td>The only good point I suppose is that there wa...</td>\n",
       "      <td>Absoutely innefective.  I easily could have be...</td>\n",
       "    </tr>\n",
       "    <tr>\n",
       "      <th>2705</th>\n",
       "      <td>flonase</td>\n",
       "      <td>8</td>\n",
       "      <td>Considerably Effective</td>\n",
       "      <td>No Side Effects</td>\n",
       "      <td>plugged up nose related to seasonal allergies</td>\n",
       "      <td>cleared up nose</td>\n",
       "      <td>none</td>\n",
       "      <td>NaN</td>\n",
       "    </tr>\n",
       "    <tr>\n",
       "      <th>2921</th>\n",
       "      <td>ceclor</td>\n",
       "      <td>1</td>\n",
       "      <td>Ineffective</td>\n",
       "      <td>Severe Side Effects</td>\n",
       "      <td>ear infection</td>\n",
       "      <td>My son had an allergic reaction.  He broke out...</td>\n",
       "      <td>Time - let them go away on their own</td>\n",
       "      <td>NaN</td>\n",
       "    </tr>\n",
       "  </tbody>\n",
       "</table>\n",
       "</div>"
      ],
      "text/plain": [
       "             drug  rating           effectiveness           side_effects  \\\n",
       "147   doxycycline       4    Moderately Effective    Severe Side Effects   \n",
       "400        hyzaar       8        Highly Effective  Moderate Side Effects   \n",
       "407    ritalin-la       8  Considerably Effective      Mild Side Effects   \n",
       "1238   seasonique       9        Highly Effective      Mild Side Effects   \n",
       "1468   seasonique       4  Considerably Effective  Moderate Side Effects   \n",
       "1965      xenical       3    Marginally Effective        No Side Effects   \n",
       "2488       keflex       2             Ineffective        No Side Effects   \n",
       "2705      flonase       8  Considerably Effective        No Side Effects   \n",
       "2921       ceclor       1             Ineffective    Severe Side Effects   \n",
       "\n",
       "                                          condition  \\\n",
       "147                                    epididymitus   \n",
       "400                                    hypertension   \n",
       "407                                            adhd   \n",
       "1238                      prevent menstral migranes   \n",
       "1468                           preventing pregnancy   \n",
       "1965                                    over weight   \n",
       "2488                                            NaN   \n",
       "2705  plugged up nose related to seasonal allergies   \n",
       "2921                                  ear infection   \n",
       "\n",
       "                                        benefits_review  \\\n",
       "147                 Treatment cleared up the infection.   \n",
       "400   Pills helped to lower my blood pressure.  Also...   \n",
       "407   This medication enabled me to think clearly.  ...   \n",
       "1238  Experienced 1 migrane in the past year since o...   \n",
       "1468                               preventing pregnancy   \n",
       "1965  i have been on xenical for a little over 2 wee...   \n",
       "2488  None.  I had a bacterial infection accompanyin...   \n",
       "2705                                    cleared up nose   \n",
       "2921  My son had an allergic reaction.  He broke out...   \n",
       "\n",
       "                                    side_effects_review  \\\n",
       "147   Treatment ended 2 months ago and have still go...   \n",
       "400   Back pain, especially after a missed dose.  In...   \n",
       "407   This medication caused me to be nervous, tremb...   \n",
       "1238  Noticed light skin iritation.  Take the light ...   \n",
       "1468  This pill was great b/c i didn't have any peri...   \n",
       "1965    i dont have any other then now i am constipated   \n",
       "2488  The only good point I suppose is that there wa...   \n",
       "2705                                               none   \n",
       "2921               Time - let them go away on their own   \n",
       "\n",
       "                                        comments_review  \n",
       "147                                                 NaN  \n",
       "400                                                 NaN  \n",
       "407                                                 NaN  \n",
       "1238                                                NaN  \n",
       "1468                                                NaN  \n",
       "1965                                                NaN  \n",
       "2488  Absoutely innefective.  I easily could have be...  \n",
       "2705                                                NaN  \n",
       "2921                                                NaN  "
      ]
     },
     "execution_count": 11,
     "metadata": {},
     "output_type": "execute_result"
    }
   ],
   "source": [
    "train_data[train_data.isna().any(axis=1)]"
   ]
  },
  {
   "cell_type": "code",
   "execution_count": 12,
   "metadata": {},
   "outputs": [
    {
     "name": "stdout",
     "output_type": "stream",
     "text": [
      "Benefits :  None.  I had a bacterial infection accompanying my flu and there wasnt a single noticeable benefit.\n",
      "\n",
      "Side effects :  The only good point I suppose is that there was no adverse reaction, such as yeast infection or stomach upset. The downside was the bacterial infection quickly got worse. \n",
      "\n",
      "208                                pre-surgery\n",
      "594      shortness of breath, itching all over\n",
      "883     severe upper respitory tract infection\n",
      "1109                           tooth infection\n",
      "1979                           polinoidal cyst\n",
      "2196                        bladder infections\n",
      "2329                      skin wound/infection\n",
      "2488                                       NaN\n",
      "2528                   post surgery antibiotic\n",
      "2598                 post operative antibiotic\n",
      "Name: condition, dtype: object\n"
     ]
    }
   ],
   "source": [
    "# Trying to infer the condition that was being treated.\n",
    "# This column might be usefull for a more complex model, that also uses the rating and condition columns, \n",
    "# to predict the effectiveness and side_effects rating.\n",
    "print('Benefits : ', train_data.loc[2488]['benefits_review'])\n",
    "print('\\nSide effects : ', train_data.loc[2488]['side_effects_review'],'\\n')\n",
    "print(train_data[train_data['drug'] == 'keflex']['condition'])\n",
    "\n",
    "# Having determined that the condition was a bacterial infection, lets fill the NaN with it.\n",
    "train_data.fillna({'condition': 'bacterial infection'}, inplace=True)\n"
   ]
  },
  {
   "cell_type": "code",
   "execution_count": 13,
   "metadata": {},
   "outputs": [],
   "source": [
    "# Filling NaNs with a 0 so the clean_text function can work\n",
    "train_data.fillna({'comments_review': '0'}, inplace=True)"
   ]
  },
  {
   "cell_type": "markdown",
   "metadata": {},
   "source": [
    "## Doing some exploration"
   ]
  },
  {
   "cell_type": "code",
   "execution_count": 14,
   "metadata": {},
   "outputs": [
    {
     "data": {
      "text/plain": [
       "502"
      ]
     },
     "execution_count": 14,
     "metadata": {},
     "output_type": "execute_result"
    }
   ],
   "source": [
    "# Number of unique drugs\n",
    "train_data.drug.unique().shape[0]"
   ]
  },
  {
   "cell_type": "code",
   "execution_count": 15,
   "metadata": {},
   "outputs": [
    {
     "data": {
      "text/plain": [
       "1426"
      ]
     },
     "execution_count": 15,
     "metadata": {},
     "output_type": "execute_result"
    }
   ],
   "source": [
    "# Number of unique conditions\n",
    "train_data.condition.unique().shape[0]"
   ]
  },
  {
   "cell_type": "code",
   "execution_count": 16,
   "metadata": {},
   "outputs": [
    {
     "data": {
      "text/html": [
       "<div>\n",
       "<style scoped>\n",
       "    .dataframe tbody tr th:only-of-type {\n",
       "        vertical-align: middle;\n",
       "    }\n",
       "\n",
       "    .dataframe tbody tr th {\n",
       "        vertical-align: top;\n",
       "    }\n",
       "\n",
       "    .dataframe thead th {\n",
       "        text-align: right;\n",
       "    }\n",
       "</style>\n",
       "<table border=\"1\" class=\"dataframe\">\n",
       "  <thead>\n",
       "    <tr style=\"text-align: right;\">\n",
       "      <th></th>\n",
       "      <th></th>\n",
       "      <th>rating</th>\n",
       "      <th>effectiveness</th>\n",
       "      <th>side_effects</th>\n",
       "      <th>benefits_review</th>\n",
       "      <th>side_effects_review</th>\n",
       "      <th>comments_review</th>\n",
       "    </tr>\n",
       "    <tr>\n",
       "      <th>drug</th>\n",
       "      <th>condition</th>\n",
       "      <th></th>\n",
       "      <th></th>\n",
       "      <th></th>\n",
       "      <th></th>\n",
       "      <th></th>\n",
       "      <th></th>\n",
       "    </tr>\n",
       "  </thead>\n",
       "  <tbody>\n",
       "    <tr>\n",
       "      <th rowspan=\"5\" valign=\"top\">abilify</th>\n",
       "      <th>bipolar</th>\n",
       "      <td>1</td>\n",
       "      <td>1</td>\n",
       "      <td>1</td>\n",
       "      <td>1</td>\n",
       "      <td>1</td>\n",
       "      <td>1</td>\n",
       "    </tr>\n",
       "    <tr>\n",
       "      <th>bipolar disorder</th>\n",
       "      <td>1</td>\n",
       "      <td>1</td>\n",
       "      <td>1</td>\n",
       "      <td>1</td>\n",
       "      <td>1</td>\n",
       "      <td>1</td>\n",
       "    </tr>\n",
       "    <tr>\n",
       "      <th>depression</th>\n",
       "      <td>1</td>\n",
       "      <td>1</td>\n",
       "      <td>1</td>\n",
       "      <td>1</td>\n",
       "      <td>1</td>\n",
       "      <td>1</td>\n",
       "    </tr>\n",
       "    <tr>\n",
       "      <th>depression not resolved with antidepressant drugs</th>\n",
       "      <td>1</td>\n",
       "      <td>1</td>\n",
       "      <td>1</td>\n",
       "      <td>1</td>\n",
       "      <td>1</td>\n",
       "      <td>1</td>\n",
       "    </tr>\n",
       "    <tr>\n",
       "      <th>depression/anxiety</th>\n",
       "      <td>1</td>\n",
       "      <td>1</td>\n",
       "      <td>1</td>\n",
       "      <td>1</td>\n",
       "      <td>1</td>\n",
       "      <td>1</td>\n",
       "    </tr>\n",
       "    <tr>\n",
       "      <th>...</th>\n",
       "      <th>...</th>\n",
       "      <td>...</td>\n",
       "      <td>...</td>\n",
       "      <td>...</td>\n",
       "      <td>...</td>\n",
       "      <td>...</td>\n",
       "      <td>...</td>\n",
       "    </tr>\n",
       "    <tr>\n",
       "      <th>zyrtec</th>\n",
       "      <th>year round allergies</th>\n",
       "      <td>2</td>\n",
       "      <td>2</td>\n",
       "      <td>2</td>\n",
       "      <td>2</td>\n",
       "      <td>2</td>\n",
       "      <td>2</td>\n",
       "    </tr>\n",
       "    <tr>\n",
       "      <th rowspan=\"3\" valign=\"top\">zyrtec-d</th>\n",
       "      <th>allergies</th>\n",
       "      <td>1</td>\n",
       "      <td>1</td>\n",
       "      <td>1</td>\n",
       "      <td>1</td>\n",
       "      <td>1</td>\n",
       "      <td>1</td>\n",
       "    </tr>\n",
       "    <tr>\n",
       "      <th>hay fever</th>\n",
       "      <td>1</td>\n",
       "      <td>1</td>\n",
       "      <td>1</td>\n",
       "      <td>1</td>\n",
       "      <td>1</td>\n",
       "      <td>1</td>\n",
       "    </tr>\n",
       "    <tr>\n",
       "      <th>pollen, dust, mold and tree allergies</th>\n",
       "      <td>1</td>\n",
       "      <td>1</td>\n",
       "      <td>1</td>\n",
       "      <td>1</td>\n",
       "      <td>1</td>\n",
       "      <td>1</td>\n",
       "    </tr>\n",
       "    <tr>\n",
       "      <th>zyvox</th>\n",
       "      <th>mrsa</th>\n",
       "      <td>1</td>\n",
       "      <td>1</td>\n",
       "      <td>1</td>\n",
       "      <td>1</td>\n",
       "      <td>1</td>\n",
       "      <td>1</td>\n",
       "    </tr>\n",
       "  </tbody>\n",
       "</table>\n",
       "<p>2082 rows × 6 columns</p>\n",
       "</div>"
      ],
      "text/plain": [
       "                                                            rating  \\\n",
       "drug     condition                                                   \n",
       "abilify  bipolar                                                 1   \n",
       "         bipolar disorder                                        1   \n",
       "         depression                                              1   \n",
       "         depression not resolved with antidepressant drugs       1   \n",
       "         depression/anxiety                                      1   \n",
       "...                                                            ...   \n",
       "zyrtec   year round allergies                                    2   \n",
       "zyrtec-d allergies                                               1   \n",
       "         hay fever                                               1   \n",
       "         pollen, dust, mold and tree allergies                   1   \n",
       "zyvox    mrsa                                                    1   \n",
       "\n",
       "                                                            effectiveness  \\\n",
       "drug     condition                                                          \n",
       "abilify  bipolar                                                        1   \n",
       "         bipolar disorder                                               1   \n",
       "         depression                                                     1   \n",
       "         depression not resolved with antidepressant drugs              1   \n",
       "         depression/anxiety                                             1   \n",
       "...                                                                   ...   \n",
       "zyrtec   year round allergies                                           2   \n",
       "zyrtec-d allergies                                                      1   \n",
       "         hay fever                                                      1   \n",
       "         pollen, dust, mold and tree allergies                          1   \n",
       "zyvox    mrsa                                                           1   \n",
       "\n",
       "                                                            side_effects  \\\n",
       "drug     condition                                                         \n",
       "abilify  bipolar                                                       1   \n",
       "         bipolar disorder                                              1   \n",
       "         depression                                                    1   \n",
       "         depression not resolved with antidepressant drugs             1   \n",
       "         depression/anxiety                                            1   \n",
       "...                                                                  ...   \n",
       "zyrtec   year round allergies                                          2   \n",
       "zyrtec-d allergies                                                     1   \n",
       "         hay fever                                                     1   \n",
       "         pollen, dust, mold and tree allergies                         1   \n",
       "zyvox    mrsa                                                          1   \n",
       "\n",
       "                                                            benefits_review  \\\n",
       "drug     condition                                                            \n",
       "abilify  bipolar                                                          1   \n",
       "         bipolar disorder                                                 1   \n",
       "         depression                                                       1   \n",
       "         depression not resolved with antidepressant drugs                1   \n",
       "         depression/anxiety                                               1   \n",
       "...                                                                     ...   \n",
       "zyrtec   year round allergies                                             2   \n",
       "zyrtec-d allergies                                                        1   \n",
       "         hay fever                                                        1   \n",
       "         pollen, dust, mold and tree allergies                            1   \n",
       "zyvox    mrsa                                                             1   \n",
       "\n",
       "                                                            side_effects_review  \\\n",
       "drug     condition                                                                \n",
       "abilify  bipolar                                                              1   \n",
       "         bipolar disorder                                                     1   \n",
       "         depression                                                           1   \n",
       "         depression not resolved with antidepressant drugs                    1   \n",
       "         depression/anxiety                                                   1   \n",
       "...                                                                         ...   \n",
       "zyrtec   year round allergies                                                 2   \n",
       "zyrtec-d allergies                                                            1   \n",
       "         hay fever                                                            1   \n",
       "         pollen, dust, mold and tree allergies                                1   \n",
       "zyvox    mrsa                                                                 1   \n",
       "\n",
       "                                                            comments_review  \n",
       "drug     condition                                                           \n",
       "abilify  bipolar                                                          1  \n",
       "         bipolar disorder                                                 1  \n",
       "         depression                                                       1  \n",
       "         depression not resolved with antidepressant drugs                1  \n",
       "         depression/anxiety                                               1  \n",
       "...                                                                     ...  \n",
       "zyrtec   year round allergies                                             2  \n",
       "zyrtec-d allergies                                                        1  \n",
       "         hay fever                                                        1  \n",
       "         pollen, dust, mold and tree allergies                            1  \n",
       "zyvox    mrsa                                                             1  \n",
       "\n",
       "[2082 rows x 6 columns]"
      ]
     },
     "execution_count": 16,
     "metadata": {},
     "output_type": "execute_result"
    }
   ],
   "source": [
    "# Listing drugs, the conditions they treat and how many entries there are for each pair (drug, condition)\n",
    "f = train_data.groupby(by=['drug', 'condition']).count()\n",
    "f"
   ]
  },
  {
   "cell_type": "code",
   "execution_count": 17,
   "metadata": {},
   "outputs": [
    {
     "data": {
      "text/html": [
       "<div>\n",
       "<style scoped>\n",
       "    .dataframe tbody tr th:only-of-type {\n",
       "        vertical-align: middle;\n",
       "    }\n",
       "\n",
       "    .dataframe tbody tr th {\n",
       "        vertical-align: top;\n",
       "    }\n",
       "\n",
       "    .dataframe thead th {\n",
       "        text-align: right;\n",
       "    }\n",
       "</style>\n",
       "<table border=\"1\" class=\"dataframe\">\n",
       "  <thead>\n",
       "    <tr style=\"text-align: right;\">\n",
       "      <th></th>\n",
       "      <th>drug</th>\n",
       "      <th>count</th>\n",
       "      <th>%reviews</th>\n",
       "    </tr>\n",
       "  </thead>\n",
       "  <tbody>\n",
       "    <tr>\n",
       "      <th>0</th>\n",
       "      <td>lexapro</td>\n",
       "      <td>63</td>\n",
       "      <td>2.028</td>\n",
       "    </tr>\n",
       "    <tr>\n",
       "      <th>1</th>\n",
       "      <td>prozac</td>\n",
       "      <td>46</td>\n",
       "      <td>1.481</td>\n",
       "    </tr>\n",
       "    <tr>\n",
       "      <th>2</th>\n",
       "      <td>retin-a</td>\n",
       "      <td>45</td>\n",
       "      <td>1.448</td>\n",
       "    </tr>\n",
       "    <tr>\n",
       "      <th>3</th>\n",
       "      <td>zoloft</td>\n",
       "      <td>45</td>\n",
       "      <td>1.448</td>\n",
       "    </tr>\n",
       "    <tr>\n",
       "      <th>4</th>\n",
       "      <td>paxil</td>\n",
       "      <td>38</td>\n",
       "      <td>1.223</td>\n",
       "    </tr>\n",
       "    <tr>\n",
       "      <th>...</th>\n",
       "      <td>...</td>\n",
       "      <td>...</td>\n",
       "      <td>...</td>\n",
       "    </tr>\n",
       "    <tr>\n",
       "      <th>497</th>\n",
       "      <td>pamelor</td>\n",
       "      <td>1</td>\n",
       "      <td>0.032</td>\n",
       "    </tr>\n",
       "    <tr>\n",
       "      <th>498</th>\n",
       "      <td>penicillin-v</td>\n",
       "      <td>1</td>\n",
       "      <td>0.032</td>\n",
       "    </tr>\n",
       "    <tr>\n",
       "      <th>499</th>\n",
       "      <td>penlac</td>\n",
       "      <td>1</td>\n",
       "      <td>0.032</td>\n",
       "    </tr>\n",
       "    <tr>\n",
       "      <th>500</th>\n",
       "      <td>pepcid</td>\n",
       "      <td>1</td>\n",
       "      <td>0.032</td>\n",
       "    </tr>\n",
       "    <tr>\n",
       "      <th>501</th>\n",
       "      <td>zyvox</td>\n",
       "      <td>1</td>\n",
       "      <td>0.032</td>\n",
       "    </tr>\n",
       "  </tbody>\n",
       "</table>\n",
       "<p>502 rows × 3 columns</p>\n",
       "</div>"
      ],
      "text/plain": [
       "             drug  count  %reviews\n",
       "0         lexapro     63     2.028\n",
       "1          prozac     46     1.481\n",
       "2         retin-a     45     1.448\n",
       "3          zoloft     45     1.448\n",
       "4           paxil     38     1.223\n",
       "..            ...    ...       ...\n",
       "497       pamelor      1     0.032\n",
       "498  penicillin-v      1     0.032\n",
       "499        penlac      1     0.032\n",
       "500        pepcid      1     0.032\n",
       "501         zyvox      1     0.032\n",
       "\n",
       "[502 rows x 3 columns]"
      ]
     },
     "execution_count": 17,
     "metadata": {},
     "output_type": "execute_result"
    }
   ],
   "source": [
    "# Seeing how many times each drug was used and what % of the reviews it represents\n",
    "drugs = train_data.groupby(by=['drug']).count()\n",
    "drugs.drop(columns=['effectiveness', 'side_effects', 'condition', 'benefits_review', 'side_effects_review', 'comments_review'], inplace=True)\n",
    "drugs.reset_index(inplace=True)\n",
    "drugs.rename(columns={'rating': 'count'}, inplace=True)\n",
    "drugs.sort_values(by='count', ascending=False, inplace=True)\n",
    "drugs.reset_index(drop=True, inplace=True)\n",
    "drugs['%reviews'] = round((drugs['count'] / drugs['count'].sum()) * 100, 3)\n",
    "drugs"
   ]
  },
  {
   "cell_type": "markdown",
   "metadata": {},
   "source": [
    "### Creating a helper function to clean the text"
   ]
  },
  {
   "cell_type": "code",
   "execution_count": 18,
   "metadata": {},
   "outputs": [],
   "source": [
    "stop_words = list(stopwords.words('english'))\n",
    "def clean_text(df, text_field):\n",
    "    df[text_field] = df[text_field].str.lower()\n",
    "    # remove strange characters\n",
    "    df[text_field] = df[text_field].apply(lambda elem: re.sub(r\"(@[A-Za-z0-9]+)|([^0-9A-Za-z \\t])|(\\w+:\\/\\/\\S+)|^rt|http.+?\", \"\", elem))\n",
    "    #remove numbers\n",
    "    df[text_field] = df[text_field].apply(lambda elem: re.sub(r\"\\d+\", \"\", elem))\n",
    "    # remove stopwords\n",
    "    df[text_field] = df[text_field].apply(lambda x: ' '.join([word for word in x.split() if word not in stop_words]))\n",
    "    # stem the words\n",
    "    df[text_field] = df[text_field].apply(lambda x: ' '.join([SnowballStemmer(language='english').stem(word) for word in x.split()]))\n"
   ]
  },
  {
   "cell_type": "markdown",
   "metadata": {},
   "source": [
    "## Creating the datasets to be used to predict the ratings and text type"
   ]
  },
  {
   "cell_type": "code",
   "execution_count": 19,
   "metadata": {},
   "outputs": [],
   "source": [
    "# Creating the rating prediction datasets\n",
    "clean_text(train_data, 'benefits_review')\n",
    "clean_text(train_data, 'side_effects_review')\n",
    "clean_text(train_data, 'comments_review')\n",
    "\n",
    "train_data_benefits = train_data[['rating', 'condition', 'benefits_review', 'effectiveness']].copy()\n",
    "train_data_side_effects = train_data[['rating', 'condition', 'side_effects_review' ,'side_effects']].copy()"
   ]
  },
  {
   "cell_type": "code",
   "execution_count": 20,
   "metadata": {},
   "outputs": [
    {
     "data": {
      "text/html": [
       "<div>\n",
       "<style scoped>\n",
       "    .dataframe tbody tr th:only-of-type {\n",
       "        vertical-align: middle;\n",
       "    }\n",
       "\n",
       "    .dataframe tbody tr th {\n",
       "        vertical-align: top;\n",
       "    }\n",
       "\n",
       "    .dataframe thead th {\n",
       "        text-align: right;\n",
       "    }\n",
       "</style>\n",
       "<table border=\"1\" class=\"dataframe\">\n",
       "  <thead>\n",
       "    <tr style=\"text-align: right;\">\n",
       "      <th></th>\n",
       "      <th>rating</th>\n",
       "      <th>condition</th>\n",
       "      <th>benefits_review</th>\n",
       "      <th>effectiveness</th>\n",
       "    </tr>\n",
       "  </thead>\n",
       "  <tbody>\n",
       "    <tr>\n",
       "      <th>0</th>\n",
       "      <td>4</td>\n",
       "      <td>management of congestive heart failure</td>\n",
       "      <td>slow progress left ventricular dysfunct overt ...</td>\n",
       "      <td>Highly Effective</td>\n",
       "    </tr>\n",
       "    <tr>\n",
       "      <th>1</th>\n",
       "      <td>1</td>\n",
       "      <td>birth prevention</td>\n",
       "      <td>although type birth control con pros help cram...</td>\n",
       "      <td>Highly Effective</td>\n",
       "    </tr>\n",
       "    <tr>\n",
       "      <th>2</th>\n",
       "      <td>10</td>\n",
       "      <td>menstrual cramps</td>\n",
       "      <td>use cramp bad would leav ball bed least day po...</td>\n",
       "      <td>Highly Effective</td>\n",
       "    </tr>\n",
       "    <tr>\n",
       "      <th>3</th>\n",
       "      <td>3</td>\n",
       "      <td>acid reflux</td>\n",
       "      <td>acid reflux went away month day drug heartburn...</td>\n",
       "      <td>Marginally Effective</td>\n",
       "    </tr>\n",
       "    <tr>\n",
       "      <th>4</th>\n",
       "      <td>2</td>\n",
       "      <td>fibromyalgia</td>\n",
       "      <td>think lyrica start help pain sideeffect sever ...</td>\n",
       "      <td>Marginally Effective</td>\n",
       "    </tr>\n",
       "  </tbody>\n",
       "</table>\n",
       "</div>"
      ],
      "text/plain": [
       "   rating                               condition  \\\n",
       "0       4  management of congestive heart failure   \n",
       "1       1                        birth prevention   \n",
       "2      10                        menstrual cramps   \n",
       "3       3                             acid reflux   \n",
       "4       2                            fibromyalgia   \n",
       "\n",
       "                                     benefits_review         effectiveness  \n",
       "0  slow progress left ventricular dysfunct overt ...      Highly Effective  \n",
       "1  although type birth control con pros help cram...      Highly Effective  \n",
       "2  use cramp bad would leav ball bed least day po...      Highly Effective  \n",
       "3  acid reflux went away month day drug heartburn...  Marginally Effective  \n",
       "4  think lyrica start help pain sideeffect sever ...  Marginally Effective  "
      ]
     },
     "execution_count": 20,
     "metadata": {},
     "output_type": "execute_result"
    }
   ],
   "source": [
    "train_data_benefits.head()"
   ]
  },
  {
   "cell_type": "code",
   "execution_count": 21,
   "metadata": {},
   "outputs": [
    {
     "data": {
      "text/html": [
       "<div>\n",
       "<style scoped>\n",
       "    .dataframe tbody tr th:only-of-type {\n",
       "        vertical-align: middle;\n",
       "    }\n",
       "\n",
       "    .dataframe tbody tr th {\n",
       "        vertical-align: top;\n",
       "    }\n",
       "\n",
       "    .dataframe thead th {\n",
       "        text-align: right;\n",
       "    }\n",
       "</style>\n",
       "<table border=\"1\" class=\"dataframe\">\n",
       "  <thead>\n",
       "    <tr style=\"text-align: right;\">\n",
       "      <th></th>\n",
       "      <th>rating</th>\n",
       "      <th>condition</th>\n",
       "      <th>side_effects_review</th>\n",
       "      <th>side_effects</th>\n",
       "    </tr>\n",
       "  </thead>\n",
       "  <tbody>\n",
       "    <tr>\n",
       "      <th>0</th>\n",
       "      <td>4</td>\n",
       "      <td>management of congestive heart failure</td>\n",
       "      <td>cough hypotens proteinuria impot renal failur ...</td>\n",
       "      <td>Mild Side Effects</td>\n",
       "    </tr>\n",
       "    <tr>\n",
       "      <th>1</th>\n",
       "      <td>1</td>\n",
       "      <td>birth prevention</td>\n",
       "      <td>heavi cycl cramp hot flash fatigu long last cy...</td>\n",
       "      <td>Severe Side Effects</td>\n",
       "    </tr>\n",
       "    <tr>\n",
       "      <th>2</th>\n",
       "      <td>10</td>\n",
       "      <td>menstrual cramps</td>\n",
       "      <td>heavier bleed clot normal</td>\n",
       "      <td>No Side Effects</td>\n",
       "    </tr>\n",
       "    <tr>\n",
       "      <th>3</th>\n",
       "      <td>3</td>\n",
       "      <td>acid reflux</td>\n",
       "      <td>constip dri mouth mild dizzi would go away med...</td>\n",
       "      <td>Mild Side Effects</td>\n",
       "    </tr>\n",
       "    <tr>\n",
       "      <th>4</th>\n",
       "      <td>2</td>\n",
       "      <td>fibromyalgia</td>\n",
       "      <td>felt extrem drug dopey could drive med also ex...</td>\n",
       "      <td>Severe Side Effects</td>\n",
       "    </tr>\n",
       "  </tbody>\n",
       "</table>\n",
       "</div>"
      ],
      "text/plain": [
       "   rating                               condition  \\\n",
       "0       4  management of congestive heart failure   \n",
       "1       1                        birth prevention   \n",
       "2      10                        menstrual cramps   \n",
       "3       3                             acid reflux   \n",
       "4       2                            fibromyalgia   \n",
       "\n",
       "                                 side_effects_review         side_effects  \n",
       "0  cough hypotens proteinuria impot renal failur ...    Mild Side Effects  \n",
       "1  heavi cycl cramp hot flash fatigu long last cy...  Severe Side Effects  \n",
       "2                          heavier bleed clot normal      No Side Effects  \n",
       "3  constip dri mouth mild dizzi would go away med...    Mild Side Effects  \n",
       "4  felt extrem drug dopey could drive med also ex...  Severe Side Effects  "
      ]
     },
     "execution_count": 21,
     "metadata": {},
     "output_type": "execute_result"
    }
   ],
   "source": [
    "train_data_side_effects.head()"
   ]
  },
  {
   "cell_type": "code",
   "execution_count": 22,
   "metadata": {},
   "outputs": [
    {
     "data": {
      "text/html": [
       "<div>\n",
       "<style scoped>\n",
       "    .dataframe tbody tr th:only-of-type {\n",
       "        vertical-align: middle;\n",
       "    }\n",
       "\n",
       "    .dataframe tbody tr th {\n",
       "        vertical-align: top;\n",
       "    }\n",
       "\n",
       "    .dataframe thead th {\n",
       "        text-align: right;\n",
       "    }\n",
       "</style>\n",
       "<table border=\"1\" class=\"dataframe\">\n",
       "  <thead>\n",
       "    <tr style=\"text-align: right;\">\n",
       "      <th></th>\n",
       "      <th>review</th>\n",
       "      <th>category</th>\n",
       "    </tr>\n",
       "  </thead>\n",
       "  <tbody>\n",
       "    <tr>\n",
       "      <th>9263</th>\n",
       "      <td>take need particular event work perfect treatment</td>\n",
       "      <td>General</td>\n",
       "    </tr>\n",
       "    <tr>\n",
       "      <th>5893</th>\n",
       "      <td>notic side effect</td>\n",
       "      <td>Side Effects</td>\n",
       "    </tr>\n",
       "    <tr>\n",
       "      <th>3625</th>\n",
       "      <td>didnt feel alarm side effect medic even use ye...</td>\n",
       "      <td>Side Effects</td>\n",
       "    </tr>\n",
       "    <tr>\n",
       "      <th>6950</th>\n",
       "      <td>acn rosacea began age treat topic harsh counte...</td>\n",
       "      <td>General</td>\n",
       "    </tr>\n",
       "    <tr>\n",
       "      <th>6265</th>\n",
       "      <td>dont sever acn problem occasion break prescrib...</td>\n",
       "      <td>General</td>\n",
       "    </tr>\n",
       "    <tr>\n",
       "      <th>...</th>\n",
       "      <td>...</td>\n",
       "      <td>...</td>\n",
       "    </tr>\n",
       "    <tr>\n",
       "      <th>6724</th>\n",
       "      <td>unit dysport inject forehead differ place told...</td>\n",
       "      <td>General</td>\n",
       "    </tr>\n",
       "    <tr>\n",
       "      <th>6030</th>\n",
       "      <td>extrem agon bone pain neck rib high fever day ...</td>\n",
       "      <td>Side Effects</td>\n",
       "    </tr>\n",
       "    <tr>\n",
       "      <th>5135</th>\n",
       "      <td>skin rash entir bodi delirium incapacit bonemu...</td>\n",
       "      <td>Side Effects</td>\n",
       "    </tr>\n",
       "    <tr>\n",
       "      <th>8260</th>\n",
       "      <td>dental specialist went gum deep clean special ...</td>\n",
       "      <td>General</td>\n",
       "    </tr>\n",
       "    <tr>\n",
       "      <th>6826</th>\n",
       "      <td>take one mg tablet hour go bed slow metabol al...</td>\n",
       "      <td>General</td>\n",
       "    </tr>\n",
       "  </tbody>\n",
       "</table>\n",
       "<p>9296 rows × 2 columns</p>\n",
       "</div>"
      ],
      "text/plain": [
       "                                                 review      category\n",
       "9263  take need particular event work perfect treatment       General\n",
       "5893                                  notic side effect  Side Effects\n",
       "3625  didnt feel alarm side effect medic even use ye...  Side Effects\n",
       "6950  acn rosacea began age treat topic harsh counte...       General\n",
       "6265  dont sever acn problem occasion break prescrib...       General\n",
       "...                                                 ...           ...\n",
       "6724  unit dysport inject forehead differ place told...       General\n",
       "6030  extrem agon bone pain neck rib high fever day ...  Side Effects\n",
       "5135  skin rash entir bodi delirium incapacit bonemu...  Side Effects\n",
       "8260  dental specialist went gum deep clean special ...       General\n",
       "6826  take one mg tablet hour go bed slow metabol al...       General\n",
       "\n",
       "[9296 rows x 2 columns]"
      ]
     },
     "execution_count": 22,
     "metadata": {},
     "output_type": "execute_result"
    }
   ],
   "source": [
    "# Creating the type of text prediction dataset\n",
    "type_of_text = pd.DataFrame(columns=['review','category'])\n",
    "\n",
    "ben = pd.DataFrame()\n",
    "ben['review'] = train_data['benefits_review']\n",
    "ben['category'] = 'Benefits'\n",
    "\n",
    "side = pd.DataFrame()\n",
    "side['review'] = train_data['side_effects_review']\n",
    "side['category'] = 'Side Effects'\n",
    "\n",
    "gen = pd.DataFrame()\n",
    "gen['review'] = train_data['comments_review']\n",
    "gen['category'] = 'General'\n",
    "\n",
    "type_of_text = pd.concat([ben,side,gen], ignore_index=True).copy()\n",
    "type_of_text.drop(type_of_text[type_of_text['review'] == ''].index, inplace=True)\n",
    "type_of_text = shuffle(type_of_text)\n",
    "type_of_text\n"
   ]
  },
  {
   "cell_type": "code",
   "execution_count": 23,
   "metadata": {},
   "outputs": [],
   "source": [
    "# Creating the test dataset\n",
    "test_data = pd.read_csv('drugLib_raw/drugLibTest_raw.tsv', sep='\\t', header=0, names=['id', 'drug', 'rating', 'effectiveness', 'side_effects', 'condition', 'benefits_review', 'side_effects_review', 'comments_review'])\n",
    "test_data.drop(columns='id', inplace=True)\n",
    "test_data.dropna(inplace=True)\n",
    "\n",
    "clean_text(test_data, 'benefits_review')\n",
    "clean_text(test_data, 'side_effects_review')\n",
    "clean_text(test_data, 'comments_review')\n",
    "\n",
    "\n",
    "test_data_benefits = test_data[['benefits_review', 'effectiveness']].copy()\n",
    "test_data_side_effects = test_data[['side_effects_review', 'side_effects']].copy()\n",
    "\n",
    "type_of_text_test = pd.DataFrame(columns=['review', 'category'])\n",
    "\n",
    "ben = pd.DataFrame()\n",
    "ben['review'] = train_data['benefits_review']\n",
    "ben['category'] = 'Benefits'\n",
    "\n",
    "side = pd.DataFrame()\n",
    "side['review'] = train_data['side_effects_review']\n",
    "side['category'] = 'Side Effects'\n",
    "\n",
    "gen = pd.DataFrame()\n",
    "gen['review'] = train_data['comments_review']\n",
    "gen['category'] = 'General'\n",
    "\n",
    "type_of_text_test = pd.concat([ben, side, gen], ignore_index=True).copy()\n",
    "type_of_text_test = shuffle(type_of_text_test)\n"
   ]
  },
  {
   "cell_type": "code",
   "execution_count": 24,
   "metadata": {},
   "outputs": [],
   "source": [
    "# Creating the final dataset to train our model\n",
    "final_data = pd.concat([train_data, test_data], ignore_index=True).copy()\n",
    "type_of_text_final = pd.concat([type_of_text, type_of_text_test], ignore_index=True).copy()\n",
    "type_of_text_final = shuffle(type_of_text_final)"
   ]
  },
  {
   "cell_type": "code",
   "execution_count": 25,
   "metadata": {},
   "outputs": [],
   "source": [
    "# Preparing the similar dataset to be used\n",
    "data_1 = pd.read_csv('drugsCom_raw/drugsComTrain_raw.tsv', sep='\\t', header=0, names=[\n",
    "                        'id', 'drug', 'condition', 'review', 'rating', 'date', 'useful_count'])\n",
    "data_1.dropna(inplace=True)\n",
    "\n",
    "data_2 = pd.read_csv('drugsCom_raw/drugsComTest_raw.tsv', sep='\\t', header=0, names=[\n",
    "    'id', 'drug', 'condition', 'review', 'rating', 'date', 'useful_count'])\n",
    "\n",
    "data_2.dropna(inplace=True)\n",
    "similar_data = pd.concat([data_1, data_2], ignore_index=True).copy()\n",
    "similar_data.drop(columns=['id', 'condition', 'date', 'rating','useful_count'], inplace=True)\n"
   ]
  },
  {
   "cell_type": "code",
   "execution_count": 26,
   "metadata": {},
   "outputs": [
    {
     "data": {
      "text/html": [
       "<div>\n",
       "<style scoped>\n",
       "    .dataframe tbody tr th:only-of-type {\n",
       "        vertical-align: middle;\n",
       "    }\n",
       "\n",
       "    .dataframe tbody tr th {\n",
       "        vertical-align: top;\n",
       "    }\n",
       "\n",
       "    .dataframe thead th {\n",
       "        text-align: right;\n",
       "    }\n",
       "</style>\n",
       "<table border=\"1\" class=\"dataframe\">\n",
       "  <thead>\n",
       "    <tr style=\"text-align: right;\">\n",
       "      <th></th>\n",
       "      <th>drug</th>\n",
       "      <th>review</th>\n",
       "    </tr>\n",
       "  </thead>\n",
       "  <tbody>\n",
       "    <tr>\n",
       "      <th>0</th>\n",
       "      <td>Valsartan</td>\n",
       "      <td>side effect take combin bystol mg fish oil</td>\n",
       "    </tr>\n",
       "    <tr>\n",
       "      <th>1</th>\n",
       "      <td>Guanfacine</td>\n",
       "      <td>son halfway fourth week intuniv becam concern ...</td>\n",
       "    </tr>\n",
       "    <tr>\n",
       "      <th>2</th>\n",
       "      <td>Lybrel</td>\n",
       "      <td>use take anoth oral contracept pill cycl happi...</td>\n",
       "    </tr>\n",
       "    <tr>\n",
       "      <th>3</th>\n",
       "      <td>Ortho Evra</td>\n",
       "      <td>first time use form birth control im glad went...</td>\n",
       "    </tr>\n",
       "    <tr>\n",
       "      <th>4</th>\n",
       "      <td>Buprenorphine / naloxone</td>\n",
       "      <td>suboxon complet turn life around feel healthie...</td>\n",
       "    </tr>\n",
       "    <tr>\n",
       "      <th>...</th>\n",
       "      <td>...</td>\n",
       "      <td>...</td>\n",
       "    </tr>\n",
       "    <tr>\n",
       "      <th>213864</th>\n",
       "      <td>Tamoxifen</td>\n",
       "      <td>taken tamoxifen year side effect sever sweat d...</td>\n",
       "    </tr>\n",
       "    <tr>\n",
       "      <th>213865</th>\n",
       "      <td>Escitalopram</td>\n",
       "      <td>ive take lexapro escitaploprgram sinc februari...</td>\n",
       "    </tr>\n",
       "    <tr>\n",
       "      <th>213866</th>\n",
       "      <td>Levonorgestrel</td>\n",
       "      <td>im marri year old kid take pill hassl decid ge...</td>\n",
       "    </tr>\n",
       "    <tr>\n",
       "      <th>213867</th>\n",
       "      <td>Tapentadol</td>\n",
       "      <td>prescrib nucynta sever neckshould pain take mg...</td>\n",
       "    </tr>\n",
       "    <tr>\n",
       "      <th>213868</th>\n",
       "      <td>Arthrotec</td>\n",
       "      <td>work</td>\n",
       "    </tr>\n",
       "  </tbody>\n",
       "</table>\n",
       "<p>213869 rows × 2 columns</p>\n",
       "</div>"
      ],
      "text/plain": [
       "                            drug  \\\n",
       "0                      Valsartan   \n",
       "1                     Guanfacine   \n",
       "2                         Lybrel   \n",
       "3                     Ortho Evra   \n",
       "4       Buprenorphine / naloxone   \n",
       "...                          ...   \n",
       "213864                 Tamoxifen   \n",
       "213865              Escitalopram   \n",
       "213866            Levonorgestrel   \n",
       "213867                Tapentadol   \n",
       "213868                 Arthrotec   \n",
       "\n",
       "                                                   review  \n",
       "0              side effect take combin bystol mg fish oil  \n",
       "1       son halfway fourth week intuniv becam concern ...  \n",
       "2       use take anoth oral contracept pill cycl happi...  \n",
       "3       first time use form birth control im glad went...  \n",
       "4       suboxon complet turn life around feel healthie...  \n",
       "...                                                   ...  \n",
       "213864  taken tamoxifen year side effect sever sweat d...  \n",
       "213865  ive take lexapro escitaploprgram sinc februari...  \n",
       "213866  im marri year old kid take pill hassl decid ge...  \n",
       "213867  prescrib nucynta sever neckshould pain take mg...  \n",
       "213868                                               work  \n",
       "\n",
       "[213869 rows x 2 columns]"
      ]
     },
     "execution_count": 26,
     "metadata": {},
     "output_type": "execute_result"
    }
   ],
   "source": [
    "clean_text(similar_data, 'review')\n",
    "similar_data"
   ]
  },
  {
   "cell_type": "markdown",
   "metadata": {},
   "source": [
    "### Check our data for a skew"
   ]
  },
  {
   "cell_type": "markdown",
   "metadata": {},
   "source": [
    "There is a known phenomenon where ratings tend to be skewed towards higher values, so we can expect the benefits rating to be affected this phenomenon.\n",
    "Also, the drugs are already being commercialized so they are not supposed to provoke strong reactions on the users. So we can assume there will be also a skew on this column.\n",
    "\n",
    "Therefore, we should check our data for the skewedness."
   ]
  },
  {
   "cell_type": "code",
   "execution_count": 27,
   "metadata": {},
   "outputs": [
    {
     "data": {
      "text/html": [
       "<div>\n",
       "<style scoped>\n",
       "    .dataframe tbody tr th:only-of-type {\n",
       "        vertical-align: middle;\n",
       "    }\n",
       "\n",
       "    .dataframe tbody tr th {\n",
       "        vertical-align: top;\n",
       "    }\n",
       "\n",
       "    .dataframe thead th {\n",
       "        text-align: right;\n",
       "    }\n",
       "</style>\n",
       "<table border=\"1\" class=\"dataframe\">\n",
       "  <thead>\n",
       "    <tr style=\"text-align: right;\">\n",
       "      <th></th>\n",
       "      <th>effectiveness</th>\n",
       "      <th>count</th>\n",
       "      <th>%Reviews</th>\n",
       "    </tr>\n",
       "  </thead>\n",
       "  <tbody>\n",
       "    <tr>\n",
       "      <th>0</th>\n",
       "      <td>Highly Effective</td>\n",
       "      <td>1330</td>\n",
       "      <td>42.81</td>\n",
       "    </tr>\n",
       "    <tr>\n",
       "      <th>1</th>\n",
       "      <td>Considerably Effective</td>\n",
       "      <td>928</td>\n",
       "      <td>29.87</td>\n",
       "    </tr>\n",
       "    <tr>\n",
       "      <th>2</th>\n",
       "      <td>Moderately Effective</td>\n",
       "      <td>415</td>\n",
       "      <td>13.36</td>\n",
       "    </tr>\n",
       "    <tr>\n",
       "      <th>3</th>\n",
       "      <td>Ineffective</td>\n",
       "      <td>247</td>\n",
       "      <td>7.95</td>\n",
       "    </tr>\n",
       "    <tr>\n",
       "      <th>4</th>\n",
       "      <td>Marginally Effective</td>\n",
       "      <td>187</td>\n",
       "      <td>6.02</td>\n",
       "    </tr>\n",
       "  </tbody>\n",
       "</table>\n",
       "</div>"
      ],
      "text/plain": [
       "            effectiveness  count  %Reviews\n",
       "0        Highly Effective   1330     42.81\n",
       "1  Considerably Effective    928     29.87\n",
       "2    Moderately Effective    415     13.36\n",
       "3             Ineffective    247      7.95\n",
       "4    Marginally Effective    187      6.02"
      ]
     },
     "execution_count": 27,
     "metadata": {},
     "output_type": "execute_result"
    }
   ],
   "source": [
    "effective = pd.DataFrame(data=train_data_benefits['effectiveness'].value_counts())\n",
    "effective.reset_index(inplace=True)\n",
    "effective.rename(columns={'index': 'effectiveness', 'effectiveness': 'count'}, inplace=True)\n",
    "effective['%Reviews'] = round((effective['count'] / effective['count'].sum()) * 100, 2)\n",
    "effective.sort_values(by='%Reviews', ascending=False)"
   ]
  },
  {
   "cell_type": "code",
   "execution_count": 28,
   "metadata": {},
   "outputs": [
    {
     "data": {
      "text/plain": [
       "<AxesSubplot:xlabel='count', ylabel='effectiveness'>"
      ]
     },
     "execution_count": 28,
     "metadata": {},
     "output_type": "execute_result"
    },
    {
     "data": {
      "image/png": "[encoded data removed]",
      "text/plain": [
       "<Figure size 432x288 with 1 Axes>"
      ]
     },
     "metadata": {},
     "output_type": "display_data"
    }
   ],
   "source": [
    "sns.countplot(y='effectiveness', data=train_data_benefits,\n",
    "              order=['Highly Effective', 'Considerably Effective', 'Moderately Effective', 'Marginally Effective', 'Ineffective'])\n"
   ]
  },
  {
   "cell_type": "code",
   "execution_count": 29,
   "metadata": {},
   "outputs": [
    {
     "data": {
      "text/html": [
       "<div>\n",
       "<style scoped>\n",
       "    .dataframe tbody tr th:only-of-type {\n",
       "        vertical-align: middle;\n",
       "    }\n",
       "\n",
       "    .dataframe tbody tr th {\n",
       "        vertical-align: top;\n",
       "    }\n",
       "\n",
       "    .dataframe thead th {\n",
       "        text-align: right;\n",
       "    }\n",
       "</style>\n",
       "<table border=\"1\" class=\"dataframe\">\n",
       "  <thead>\n",
       "    <tr style=\"text-align: right;\">\n",
       "      <th></th>\n",
       "      <th>side_effects</th>\n",
       "      <th>count</th>\n",
       "      <th>%Reviews</th>\n",
       "    </tr>\n",
       "  </thead>\n",
       "  <tbody>\n",
       "    <tr>\n",
       "      <th>0</th>\n",
       "      <td>Mild Side Effects</td>\n",
       "      <td>1019</td>\n",
       "      <td>32.80</td>\n",
       "    </tr>\n",
       "    <tr>\n",
       "      <th>1</th>\n",
       "      <td>No Side Effects</td>\n",
       "      <td>930</td>\n",
       "      <td>29.93</td>\n",
       "    </tr>\n",
       "    <tr>\n",
       "      <th>2</th>\n",
       "      <td>Moderate Side Effects</td>\n",
       "      <td>614</td>\n",
       "      <td>19.76</td>\n",
       "    </tr>\n",
       "    <tr>\n",
       "      <th>3</th>\n",
       "      <td>Severe Side Effects</td>\n",
       "      <td>369</td>\n",
       "      <td>11.88</td>\n",
       "    </tr>\n",
       "    <tr>\n",
       "      <th>4</th>\n",
       "      <td>Extremely Severe Side Effects</td>\n",
       "      <td>175</td>\n",
       "      <td>5.63</td>\n",
       "    </tr>\n",
       "  </tbody>\n",
       "</table>\n",
       "</div>"
      ],
      "text/plain": [
       "                    side_effects  count  %Reviews\n",
       "0              Mild Side Effects   1019     32.80\n",
       "1                No Side Effects    930     29.93\n",
       "2          Moderate Side Effects    614     19.76\n",
       "3            Severe Side Effects    369     11.88\n",
       "4  Extremely Severe Side Effects    175      5.63"
      ]
     },
     "execution_count": 29,
     "metadata": {},
     "output_type": "execute_result"
    }
   ],
   "source": [
    "side = pd.DataFrame(train_data_side_effects['side_effects'].value_counts())\n",
    "side.reset_index(inplace=True)\n",
    "side.rename(columns={'index': 'side_effects', 'side_effects': 'count'}, inplace=True)\n",
    "side['%Reviews'] = round((side['count'] / side['count'].sum()) * 100, 2)\n",
    "side.sort_values(by='%Reviews', ascending=False)"
   ]
  },
  {
   "cell_type": "code",
   "execution_count": 30,
   "metadata": {},
   "outputs": [
    {
     "data": {
      "text/plain": [
       "<AxesSubplot:xlabel='count', ylabel='side_effects'>"
      ]
     },
     "execution_count": 30,
     "metadata": {},
     "output_type": "execute_result"
    },
    {
     "data": {
      "image/png": "[encoded data removed]",
      "text/plain": [
       "<Figure size 432x288 with 1 Axes>"
      ]
     },
     "metadata": {},
     "output_type": "display_data"
    }
   ],
   "source": [
    "sns.countplot(y='side_effects', data=train_data_side_effects,\n",
    "              order=['Extremely Severe Side Effects', 'Severe Side Effects', 'Moderate Side Effects', 'Mild Side Effects', 'No Side Effects'])\n"
   ]
  },
  {
   "cell_type": "markdown",
   "metadata": {},
   "source": [
    "As expected, there is a significant skew in the data. There are two possible solutions for this effect. One is undersampling the data and the other is oversampling it.\n",
    "\n",
    "There is also a discussion in wether or not we should balance the dataset since the reviews in the real world will also be skewed towards higher ratings. Therefore, we will test both sampling methods as wel as using unsampled data."
   ]
  },
  {
   "cell_type": "markdown",
   "metadata": {},
   "source": [
    "### Over and under sampling the data"
   ]
  },
  {
   "cell_type": "code",
   "execution_count": 31,
   "metadata": {},
   "outputs": [],
   "source": [
    "def undersample(df, column, labels, sample_size):\n",
    "    \n",
    "    a = df[df[column] == labels[0]].sample(n=sample_size)\n",
    "    b = df[df[column] == labels[1]].sample(n=sample_size)\n",
    "    c = df[df[column] == labels[2]].sample(n=sample_size)\n",
    "    d = df[df[column] == labels[3]].sample(n=sample_size)\n",
    "    e = df[df[column] == labels[4]].sample(n=sample_size)\n",
    "    \n",
    "    final_df = pd.concat([a, b, c, d, e], ignore_index = True).copy()\n",
    "    return final_df"
   ]
  },
  {
   "cell_type": "code",
   "execution_count": 32,
   "metadata": {},
   "outputs": [],
   "source": [
    "labels = train_data_benefits['effectiveness'].unique().tolist()\n",
    "\n",
    "undersample_benefits = undersample(train_data_benefits, 'effectiveness', labels,187).copy()\n",
    "#under_sample_benefits"
   ]
  },
  {
   "cell_type": "code",
   "execution_count": 33,
   "metadata": {},
   "outputs": [],
   "source": [
    "labels = train_data_side_effects['side_effects'].unique().tolist()\n",
    "undersample_side_effects = undersample(train_data_side_effects, 'side_effects', labels, 175).copy()\n",
    "#under_sample_side_effects\n"
   ]
  },
  {
   "cell_type": "code",
   "execution_count": 34,
   "metadata": {},
   "outputs": [],
   "source": [
    "def oversample(X,y):\n",
    "    sm = SMOTE(sampling_strategy='all')\n",
    "    X_res, y_res = sm.fit_resample(X, y)\n",
    "    return X_res, y_res"
   ]
  },
  {
   "cell_type": "markdown",
   "metadata": {},
   "source": [
    "### Choosing the best classifier"
   ]
  },
  {
   "cell_type": "markdown",
   "metadata": {},
   "source": [
    "The problem of predicting a rating from text can be approached as a classification or as a regression problem. However, according to the researchers of the following paper, the best results are achieved when we treat it as a classification problem.\n",
    "\n",
    "https://aclanthology.org/W10-1205/"
   ]
  },
  {
   "cell_type": "code",
   "execution_count": 36,
   "metadata": {},
   "outputs": [],
   "source": [
    "def find_model(X, y):\n",
    "    results = {}\n",
    "\n",
    "    pipeline_1 = Pipeline([\n",
    "        ('vect1', TfidfVectorizer()),\n",
    "        ('clf1', SVC()),\n",
    "    ])\n",
    "\n",
    "    pipeline_2 = Pipeline([\n",
    "        ('vect2', TfidfVectorizer()),\n",
    "        ('clf2', RandomForestClassifier()),\n",
    "    ])\n",
    "\n",
    "    param_grid_1 = {\n",
    "        'vect1__max_df': [0.75, 1.0],\n",
    "        'vect1__ngram_range': [(1, 1), (1, 2), (1, 3), (2, 2), (3, 3)],\n",
    "        'vect1__use_idf': [True, False],\n",
    "        'vect1__norm': ['l1', 'l2', None],\n",
    "        \n",
    "        'clf1__C': [0.1, 1, 10, 100],\n",
    "        'clf1__gamma': [1, 0.1, 0.01, 0.001],\n",
    "        'clf1__kernel': ['rbf', 'poly']\n",
    "        }\n",
    "\n",
    "    param_grid_2 = {\n",
    "        'vect2__max_df': [0.75, 1.0],\n",
    "        'vect2__ngram_range': [(1, 1), (1, 2), (1, 3), (2, 2), (3, 3)],\n",
    "        'vect2__use_idf': [True, False],\n",
    "        'vect2__norm': ['l1', 'l2', None],\n",
    "\n",
    "        'clf2__criterion': ['gini', 'entropy'],\n",
    "        'clf2__max_depth': [2, 4, 6, 8, 10, 12]\n",
    "    }\n",
    "\n",
    "    clf_1 = HalvingGridSearchCV(estimator=pipeline_1, param_grid=param_grid_1, cv=5, n_jobs=-1)\n",
    "    clf_2 = HalvingGridSearchCV(estimator=pipeline_2, param_grid=param_grid_2, cv=5, n_jobs=-1)\n",
    "    \n",
    "    clf_1.fit(X, y)\n",
    "    clf_2.fit(X, y)\n",
    "\n",
    "    results['svc'] = {'score': clf_1.best_score_, 'params': clf_1.best_params_}\n",
    "    results['tree'] = {'score': clf_2.best_score_, 'params': clf_2.best_params_}\n",
    "    \n",
    "    return results\n"
   ]
  },
  {
   "cell_type": "markdown",
   "metadata": {},
   "source": [
    "## Benefits Reviews"
   ]
  },
  {
   "cell_type": "code",
   "execution_count": 37,
   "metadata": {},
   "outputs": [],
   "source": [
    "X = train_data_benefits['benefits_review'].copy()\n",
    "y = train_data_benefits['effectiveness'].copy()\n",
    "le = LabelEncoder()\n",
    "y = le.fit_transform(y)"
   ]
  },
  {
   "cell_type": "code",
   "execution_count": 38,
   "metadata": {},
   "outputs": [
    {
     "data": {
      "text/plain": [
       "{'svc': {'score': 0.45207765386204046,\n",
       "  'params': {'clf1__C': 100,\n",
       "   'clf1__gamma': 0.1,\n",
       "   'clf1__kernel': 'rbf',\n",
       "   'vect1__max_df': 1.0,\n",
       "   'vect1__ngram_range': (1, 3),\n",
       "   'vect1__norm': 'l1',\n",
       "   'vect1__use_idf': False}},\n",
       " 'tree': {'score': 0.45802560925237507,\n",
       "  'params': {'clf2__criterion': 'gini',\n",
       "   'clf2__max_depth': 12,\n",
       "   'vect2__max_df': 0.75,\n",
       "   'vect2__ngram_range': (1, 1),\n",
       "   'vect2__norm': 'l2',\n",
       "   'vect2__use_idf': False}}}"
      ]
     },
     "execution_count": 38,
     "metadata": {},
     "output_type": "execute_result"
    }
   ],
   "source": [
    "best_classifier = find_model(X, y)\n",
    "best_classifier"
   ]
  },
  {
   "cell_type": "markdown",
   "metadata": {},
   "source": [
    "#### Original dataset"
   ]
  },
  {
   "cell_type": "code",
   "execution_count": 39,
   "metadata": {},
   "outputs": [
    {
     "name": "stdout",
     "output_type": "stream",
     "text": [
      "                        precision    recall  f1-score   support\n",
      "\n",
      "Considerably Effective       0.49      0.11      0.17       310\n",
      "      Highly Effective       0.43      0.97      0.59       411\n",
      "           Ineffective       0.87      0.24      0.38        82\n",
      "  Marginally Effective       0.00      0.00      0.00        76\n",
      "  Moderately Effective       0.75      0.06      0.11       157\n",
      "\n",
      "              accuracy                           0.44      1036\n",
      "             macro avg       0.51      0.27      0.25      1036\n",
      "          weighted avg       0.50      0.44      0.33      1036\n",
      "\n"
     ]
    },
    {
     "name": "stderr",
     "output_type": "stream",
     "text": [
      "/Users/luismiguel/opt/anaconda3/lib/python3.8/site-packages/sklearn/metrics/_classification.py:1308: UndefinedMetricWarning: Precision and F-score are ill-defined and being set to 0.0 in labels with no predicted samples. Use `zero_division` parameter to control this behavior.\n",
      "  _warn_prf(average, modifier, msg_start, len(result))\n",
      "/Users/luismiguel/opt/anaconda3/lib/python3.8/site-packages/sklearn/metrics/_classification.py:1308: UndefinedMetricWarning: Precision and F-score are ill-defined and being set to 0.0 in labels with no predicted samples. Use `zero_division` parameter to control this behavior.\n",
      "  _warn_prf(average, modifier, msg_start, len(result))\n",
      "/Users/luismiguel/opt/anaconda3/lib/python3.8/site-packages/sklearn/metrics/_classification.py:1308: UndefinedMetricWarning: Precision and F-score are ill-defined and being set to 0.0 in labels with no predicted samples. Use `zero_division` parameter to control this behavior.\n",
      "  _warn_prf(average, modifier, msg_start, len(result))\n"
     ]
    }
   ],
   "source": [
    "tfidf = TfidfVectorizer(ngram_range=(1,3), norm='l2', use_idf=True, max_df=0.75)\n",
    "le = LabelEncoder()\n",
    "\n",
    "X_train_ben = train_data_benefits['benefits_review'].copy()\n",
    "y_train_ben = train_data_benefits['effectiveness'].copy()\n",
    "y_train_ben = le.fit_transform(y_train_ben)\n",
    "\n",
    "X_test_ben = test_data_benefits['benefits_review'].copy()\n",
    "y_test_ben = test_data_benefits['effectiveness'].copy()\n",
    "y_test_ben = le.fit_transform(y_test_ben)\n",
    "\n",
    "X_train_ben = tfidf.fit_transform(X_train_ben)\n",
    "X_test_ben = tfidf.transform(X_test_ben)\n",
    "\n",
    "clf_benefits = SVC(C=1, gamma=1, kernel='rbf')\n",
    "clf_benefits.fit(X_train_ben, y_train_ben)\n",
    "y_pred_ben = clf_benefits.predict(X_test_ben)\n",
    "\n",
    "y_test_ben = le.inverse_transform(y_test_ben)\n",
    "y_pred_ben = le.inverse_transform(y_pred_ben)\n",
    "\n",
    "print(metrics.classification_report(y_test_ben, y_pred_ben))"
   ]
  },
  {
   "cell_type": "markdown",
   "metadata": {},
   "source": [
    "#### Undersampled"
   ]
  },
  {
   "cell_type": "code",
   "execution_count": 40,
   "metadata": {},
   "outputs": [
    {
     "name": "stdout",
     "output_type": "stream",
     "text": [
      "                        precision    recall  f1-score   support\n",
      "\n",
      "Considerably Effective       0.36      0.40      0.38       310\n",
      "      Highly Effective       0.53      0.48      0.51       411\n",
      "           Ineffective       0.61      0.52      0.56        82\n",
      "  Marginally Effective       0.26      0.13      0.18        76\n",
      "  Moderately Effective       0.23      0.31      0.27       157\n",
      "\n",
      "              accuracy                           0.41      1036\n",
      "             macro avg       0.40      0.37      0.38      1036\n",
      "          weighted avg       0.42      0.41      0.41      1036\n",
      "\n"
     ]
    }
   ],
   "source": [
    "X_train_ben = undersample_benefits['benefits_review'].copy()\n",
    "y_train_ben = undersample_benefits['effectiveness'].copy()\n",
    "y_train_ben = le.fit_transform(y_train_ben)\n",
    "\n",
    "X_test_ben = test_data_benefits['benefits_review'].copy()\n",
    "y_test_ben = test_data_benefits['effectiveness'].copy()\n",
    "y_test_ben = le.fit_transform(y_test_ben)\n",
    "\n",
    "X_train_ben = tfidf.fit_transform(X_train_ben)\n",
    "X_test_ben = tfidf.transform(X_test_ben)\n",
    "\n",
    "\n",
    "clf_benefits = SVC(C=1, gamma=1, kernel='rbf')\n",
    "clf_benefits.fit(X_train_ben, y_train_ben)\n",
    "y_pred_ben = clf_benefits.predict(X_test_ben)\n",
    "\n",
    "y_test_ben = le.inverse_transform(y_test_ben)\n",
    "y_pred_ben = le.inverse_transform(y_pred_ben)\n",
    "\n",
    "print(metrics.classification_report(y_test_ben, y_pred_ben))\n"
   ]
  },
  {
   "cell_type": "markdown",
   "metadata": {},
   "source": [
    "#### Oversampled"
   ]
  },
  {
   "cell_type": "code",
   "execution_count": 41,
   "metadata": {},
   "outputs": [
    {
     "name": "stdout",
     "output_type": "stream",
     "text": [
      "                        precision    recall  f1-score   support\n",
      "\n",
      "Considerably Effective       0.46      0.13      0.21       310\n",
      "      Highly Effective       0.43      0.95      0.60       411\n",
      "           Ineffective       0.80      0.29      0.43        82\n",
      "  Marginally Effective       1.00      0.01      0.03        76\n",
      "  Moderately Effective       0.56      0.06      0.10       157\n",
      "\n",
      "              accuracy                           0.45      1036\n",
      "             macro avg       0.65      0.29      0.27      1036\n",
      "          weighted avg       0.53      0.45      0.35      1036\n",
      "\n"
     ]
    }
   ],
   "source": [
    "X_train_ben = train_data_benefits['benefits_review'].copy()\n",
    "y_train_ben = train_data_benefits['effectiveness'].copy()\n",
    "y_train_ben = le.fit_transform(y_train_ben)\n",
    "\n",
    "X_test_ben = test_data_benefits['benefits_review'].copy()\n",
    "y_test_ben = test_data_benefits['effectiveness'].copy()\n",
    "y_test_ben = le.fit_transform(y_test_ben)\n",
    "\n",
    "X_train_ben = tfidf.fit_transform(X_train_ben)\n",
    "X_test_ben = tfidf.transform(X_test_ben)\n",
    "\n",
    "X_train_ben, y_train_ben = oversample(X_train_ben, y_train_ben)\n",
    "\n",
    "clf_benefits = SVC(C=1, gamma=1, kernel='rbf')\n",
    "clf_benefits.fit(X_train_ben, y_train_ben)\n",
    "y_pred_ben = clf_benefits.predict(X_test_ben)\n",
    "\n",
    "y_test_ben = le.inverse_transform(y_test_ben)\n",
    "y_pred_ben = le.inverse_transform(y_pred_ben)\n",
    "\n",
    "print(metrics.classification_report(y_test_ben, y_pred_ben))"
   ]
  },
  {
   "cell_type": "markdown",
   "metadata": {},
   "source": [
    "### Conclusion\n",
    "\n",
    "- The best results were achieved when using the oversampled dataset, which provided the model with more data to learn how to make the classifications.\n",
    "- In terms of text pre-processing, the best results were achieved when using n-grams with sizes between 1 and 3 (combination of uni, bi and tri-grams).\n",
    "- The classifier that produced the best results was the SVC."
   ]
  },
  {
   "cell_type": "markdown",
   "metadata": {},
   "source": [
    "## Side Effects Reviews"
   ]
  },
  {
   "cell_type": "code",
   "execution_count": 42,
   "metadata": {},
   "outputs": [],
   "source": [
    "X = train_data_side_effects['side_effects_review'].copy()\n",
    "y = train_data_side_effects['side_effects'].copy()\n",
    "le = LabelEncoder()\n",
    "y = le.fit_transform(y)"
   ]
  },
  {
   "cell_type": "code",
   "execution_count": 43,
   "metadata": {},
   "outputs": [
    {
     "data": {
      "text/plain": [
       "{'svc': {'score': 0.5597879664050669,\n",
       "  'params': {'clf1__C': 100,\n",
       "   'clf1__gamma': 0.01,\n",
       "   'clf1__kernel': 'rbf',\n",
       "   'vect1__max_df': 0.75,\n",
       "   'vect1__ngram_range': (1, 2),\n",
       "   'vect1__norm': 'l2',\n",
       "   'vect1__use_idf': False}},\n",
       " 'tree': {'score': 0.5241057414291616,\n",
       "  'params': {'clf2__criterion': 'entropy',\n",
       "   'clf2__max_depth': 12,\n",
       "   'vect2__max_df': 0.75,\n",
       "   'vect2__ngram_range': (1, 1),\n",
       "   'vect2__norm': None,\n",
       "   'vect2__use_idf': True}}}"
      ]
     },
     "execution_count": 43,
     "metadata": {},
     "output_type": "execute_result"
    }
   ],
   "source": [
    "best_classifier = find_model(X, y)\n",
    "best_classifier"
   ]
  },
  {
   "cell_type": "markdown",
   "metadata": {},
   "source": [
    "#### Original dataset"
   ]
  },
  {
   "cell_type": "code",
   "execution_count": 44,
   "metadata": {},
   "outputs": [
    {
     "name": "stdout",
     "output_type": "stream",
     "text": [
      "                               precision    recall  f1-score   support\n",
      "\n",
      "Extremely Severe Side Effects       0.42      0.16      0.23        80\n",
      "            Mild Side Effects       0.52      0.68      0.59       330\n",
      "        Moderate Side Effects       0.42      0.32      0.37       236\n",
      "              No Side Effects       0.77      0.75      0.76       268\n",
      "          Severe Side Effects       0.34      0.36      0.35       122\n",
      "\n",
      "                     accuracy                           0.54      1036\n",
      "                    macro avg       0.49      0.46      0.46      1036\n",
      "                 weighted avg       0.53      0.54      0.53      1036\n",
      "\n"
     ]
    }
   ],
   "source": [
    "tfidf_2 = TfidfVectorizer(ngram_range=(1,2), norm=None, use_idf=True, max_df=0.75)\n",
    "le = LabelEncoder()\n",
    "\n",
    "X_train_side = train_data_side_effects['side_effects_review'].copy()\n",
    "y_train_side = train_data_side_effects['side_effects'].copy()\n",
    "y_train_side = le.fit_transform(y_train_side)\n",
    "\n",
    "X_test_side = test_data_side_effects['side_effects_review'].copy()\n",
    "y_test_side = test_data_side_effects['side_effects'].copy()\n",
    "y_test_side = le.fit_transform(y_test_side)\n",
    "\n",
    "X_train_side = tfidf_2.fit_transform(X_train_side)\n",
    "X_test_side = tfidf_2.transform(X_test_side)\n",
    "\n",
    "clf_side = SVC(C=10, gamma=0.01, kernel='rbf')\n",
    "clf_side.fit(X_train_side, y_train_side)\n",
    "y_pred_side = clf_side.predict(X_test_side)\n",
    "\n",
    "y_test_side = le.inverse_transform(y_test_side)\n",
    "y_pred_side = le.inverse_transform(y_pred_side)\n",
    "\n",
    "print(metrics.classification_report(y_test_side, y_pred_side))"
   ]
  },
  {
   "cell_type": "markdown",
   "metadata": {},
   "source": [
    "#### Undersampled"
   ]
  },
  {
   "cell_type": "code",
   "execution_count": 72,
   "metadata": {},
   "outputs": [
    {
     "name": "stdout",
     "output_type": "stream",
     "text": [
      "                               precision    recall  f1-score   support\n",
      "\n",
      "Extremely Severe Side Effects       0.27      0.60      0.37        80\n",
      "            Mild Side Effects       0.64      0.49      0.56       330\n",
      "        Moderate Side Effects       0.34      0.36      0.35       236\n",
      "              No Side Effects       0.85      0.64      0.73       268\n",
      "          Severe Side Effects       0.19      0.23      0.21       122\n",
      "\n",
      "                     accuracy                           0.48      1036\n",
      "                    macro avg       0.46      0.46      0.44      1036\n",
      "                 weighted avg       0.54      0.48      0.50      1036\n",
      "\n"
     ]
    }
   ],
   "source": [
    "X_train_side = undersample_side_effects['side_effects_review'].copy()\n",
    "y_train_side = undersample_side_effects['side_effects'].copy()\n",
    "y_train_side = le.fit_transform(y_train_side)\n",
    "\n",
    "X_test_side = test_data_side_effects['side_effects_review'].copy()\n",
    "y_test_side = test_data_side_effects['side_effects'].copy()\n",
    "y_test_side = le.fit_transform(y_test_side)\n",
    "\n",
    "X_train_side = tfidf.fit_transform(X_train_side)\n",
    "X_test_side = tfidf.transform(X_test_side)\n",
    "\n",
    "clf_side = SVC(C=1, gamma=1, kernel='rbf')\n",
    "clf_side.fit(X_train_side, y_train_side)\n",
    "y_pred_side = clf_side.predict(X_test_side)\n",
    "\n",
    "y_test_side = le.inverse_transform(y_test_side)\n",
    "y_pred_side = le.inverse_transform(y_pred_side)\n",
    "\n",
    "print(metrics.classification_report(y_test_side, y_pred_side))\n"
   ]
  },
  {
   "cell_type": "markdown",
   "metadata": {},
   "source": [
    "#### Oversampled"
   ]
  },
  {
   "cell_type": "code",
   "execution_count": 45,
   "metadata": {},
   "outputs": [
    {
     "name": "stdout",
     "output_type": "stream",
     "text": [
      "                               precision    recall  f1-score   support\n",
      "\n",
      "Extremely Severe Side Effects       0.26      0.19      0.22        80\n",
      "            Mild Side Effects       0.52      0.62      0.56       330\n",
      "        Moderate Side Effects       0.39      0.34      0.36       236\n",
      "              No Side Effects       0.79      0.74      0.76       268\n",
      "          Severe Side Effects       0.34      0.37      0.35       122\n",
      "\n",
      "                     accuracy                           0.52      1036\n",
      "                    macro avg       0.46      0.45      0.45      1036\n",
      "                 weighted avg       0.52      0.52      0.52      1036\n",
      "\n"
     ]
    }
   ],
   "source": [
    "X_train_side = train_data_side_effects['side_effects_review'].copy()\n",
    "y_train_side = train_data_side_effects['side_effects'].copy()\n",
    "y_train_side = le.fit_transform(y_train_side)\n",
    "\n",
    "X_test_side = test_data_side_effects['side_effects_review'].copy()\n",
    "y_test_side = test_data_side_effects['side_effects'].copy()\n",
    "y_test_side = le.fit_transform(y_test_side)\n",
    "\n",
    "X_train_side = tfidf_2.fit_transform(X_train_side)\n",
    "X_test_side = tfidf_2.transform(X_test_side)\n",
    "\n",
    "X_train_side, y_train_side = oversample(X_train_side, y_train_side)\n",
    "\n",
    "clf_side = SVC(C=10, gamma=0.001, kernel='rbf')\n",
    "clf_side.fit(X_train_side, y_train_side)\n",
    "y_pred_side = clf_side.predict(X_test_side)\n",
    "\n",
    "y_test_side = le.inverse_transform(y_test_side)\n",
    "y_pred_side = le.inverse_transform(y_pred_side)\n",
    "\n",
    "print(metrics.classification_report(y_test_side, y_pred_side))"
   ]
  },
  {
   "cell_type": "markdown",
   "metadata": {},
   "source": [
    "### Conclusion\n",
    "\n",
    "- Contrary to the benefits reviews, the best results were achieved when using the original dataset.\n",
    "- In terms of text pre-processing, the best results were achieved when using a combination of uni and bi-grams.\n",
    "- The classifier that produced the best results was, again, the SVC."
   ]
  },
  {
   "cell_type": "markdown",
   "metadata": {},
   "source": [
    "## Type of Review"
   ]
  },
  {
   "cell_type": "code",
   "execution_count": 46,
   "metadata": {},
   "outputs": [],
   "source": [
    "X = type_of_text['review'].copy()\n",
    "y = type_of_text['category'].copy()\n",
    "le = LabelEncoder()\n",
    "y = le.fit_transform(y)"
   ]
  },
  {
   "cell_type": "code",
   "execution_count": 47,
   "metadata": {},
   "outputs": [
    {
     "data": {
      "text/plain": [
       "{'svc': {'score': 0.7820461835535935,\n",
       "  'params': {'clf1__C': 10,\n",
       "   'clf1__gamma': 0.1,\n",
       "   'clf1__kernel': 'rbf',\n",
       "   'vect1__max_df': 0.75,\n",
       "   'vect1__ngram_range': (1, 2),\n",
       "   'vect1__norm': 'l2',\n",
       "   'vect1__use_idf': True}},\n",
       " 'tree': {'score': 0.721805440112249,\n",
       "  'params': {'clf2__criterion': 'entropy',\n",
       "   'clf2__max_depth': 12,\n",
       "   'vect2__max_df': 1.0,\n",
       "   'vect2__ngram_range': (1, 1),\n",
       "   'vect2__norm': 'l2',\n",
       "   'vect2__use_idf': False}}}"
      ]
     },
     "execution_count": 47,
     "metadata": {},
     "output_type": "execute_result"
    }
   ],
   "source": [
    "best_classifier = find_model(X, y)\n",
    "best_classifier"
   ]
  },
  {
   "cell_type": "markdown",
   "metadata": {},
   "source": [
    "#### Original dataset"
   ]
  },
  {
   "cell_type": "code",
   "execution_count": 48,
   "metadata": {},
   "outputs": [
    {
     "name": "stdout",
     "output_type": "stream",
     "text": [
      "              precision    recall  f1-score   support\n",
      "\n",
      "    Benefits       0.99      0.98      0.99      3107\n",
      "     General       1.00      0.99      0.99      3107\n",
      "Side Effects       0.98      1.00      0.99      3107\n",
      "\n",
      "    accuracy                           0.99      9321\n",
      "   macro avg       0.99      0.99      0.99      9321\n",
      "weighted avg       0.99      0.99      0.99      9321\n",
      "\n"
     ]
    }
   ],
   "source": [
    "tfidf = TfidfVectorizer(ngram_range=(1,2), norm='l2', use_idf=True, max_df=0.75)\n",
    "le = LabelEncoder()\n",
    "\n",
    "X_train_type = type_of_text['review'].copy()\n",
    "y_train_type = type_of_text['category'].copy()\n",
    "y_train_type = le.fit_transform(y_train_type)\n",
    "\n",
    "X_test_type = type_of_text_test['review'].copy()\n",
    "y_test_type = type_of_text_test['category'].copy()\n",
    "y_test_type = le.fit_transform(y_test_type)\n",
    "\n",
    "X_train_type = tfidf.fit_transform(X_train_type)\n",
    "X_test_type = tfidf.transform(X_test_type)\n",
    "\n",
    "clf_type = SVC(C=10, gamma=0.1, kernel='rbf')\n",
    "clf_type.fit(X_train_type, y_train_type)\n",
    "y_pred_type = clf_type.predict(X_test_type)\n",
    "\n",
    "y_test_type = le.inverse_transform(y_test_type)\n",
    "y_pred_type = le.inverse_transform(y_pred_type)\n",
    "\n",
    "print(metrics.classification_report(y_test_type, y_pred_type))"
   ]
  },
  {
   "cell_type": "markdown",
   "metadata": {},
   "source": [
    "### Conclusion\n",
    "\n",
    "- It didn't make sense for us to sample this dataset as it is balanced by nature (33% for each class), due to the way it was created.\n",
    "- In terms of text pre-processing, the best results were achieved when using a combination of uni and bi-grams.\n",
    "- The classifier that produced the best results was, again, the SVC.\n",
    "- In this classifier, the results achieved were far higher than the ones achieved by the previous ones.\n",
    "- This could be explained by the higher ammount of data to train the dataset.\n",
    "- Furthermore, the words used in different types of reviews are more distinct between themselves than the words used on the same type of review for different levels of satisfaction."
   ]
  },
  {
   "cell_type": "markdown",
   "metadata": {},
   "source": [
    "## Testing on the drugsCom dataset"
   ]
  },
  {
   "cell_type": "markdown",
   "metadata": {},
   "source": [
    "### Benefits"
   ]
  },
  {
   "cell_type": "code",
   "execution_count": 49,
   "metadata": {},
   "outputs": [],
   "source": [
    "tfidf = TfidfVectorizer(ngram_range=(1, 3), norm='l2', use_idf=True, max_df=0.75)\n",
    "le = LabelEncoder()\n",
    "\n",
    "X_ben = final_data['benefits_review'].copy()\n",
    "y_ben = final_data['effectiveness'].copy()\n",
    "y_ben = le.fit_transform(y_ben)\n",
    "\n",
    "X_test_ben = similar_data['review'].copy()\n",
    "\n",
    "X_ben = tfidf.fit_transform(X_ben)\n",
    "X_test_ben = tfidf.transform(X_test_ben)\n",
    "\n",
    "clf_benefits = SVC(C=1, gamma=1, kernel='rbf')\n",
    "clf_benefits.fit(X_ben, y_ben)\n",
    "y_pred_ben = clf_benefits.predict(X_test_ben)\n",
    "\n",
    "y_pred_ben = le.inverse_transform(y_pred_ben)\n",
    "\n",
    "similar_data['effectiveness'] = y_pred_ben\n"
   ]
  },
  {
   "cell_type": "code",
   "execution_count": 84,
   "metadata": {},
   "outputs": [
    {
     "data": {
      "text/html": [
       "<div>\n",
       "<style scoped>\n",
       "    .dataframe tbody tr th:only-of-type {\n",
       "        vertical-align: middle;\n",
       "    }\n",
       "\n",
       "    .dataframe tbody tr th {\n",
       "        vertical-align: top;\n",
       "    }\n",
       "\n",
       "    .dataframe thead th {\n",
       "        text-align: right;\n",
       "    }\n",
       "</style>\n",
       "<table border=\"1\" class=\"dataframe\">\n",
       "  <thead>\n",
       "    <tr style=\"text-align: right;\">\n",
       "      <th></th>\n",
       "      <th>effectiveness</th>\n",
       "      <th>count</th>\n",
       "      <th>%Reviews</th>\n",
       "    </tr>\n",
       "  </thead>\n",
       "  <tbody>\n",
       "    <tr>\n",
       "      <th>0</th>\n",
       "      <td>Highly Effective</td>\n",
       "      <td>212185</td>\n",
       "      <td>99.21</td>\n",
       "    </tr>\n",
       "    <tr>\n",
       "      <th>1</th>\n",
       "      <td>Considerably Effective</td>\n",
       "      <td>1603</td>\n",
       "      <td>0.75</td>\n",
       "    </tr>\n",
       "    <tr>\n",
       "      <th>2</th>\n",
       "      <td>Moderately Effective</td>\n",
       "      <td>60</td>\n",
       "      <td>0.03</td>\n",
       "    </tr>\n",
       "    <tr>\n",
       "      <th>3</th>\n",
       "      <td>Ineffective</td>\n",
       "      <td>20</td>\n",
       "      <td>0.01</td>\n",
       "    </tr>\n",
       "    <tr>\n",
       "      <th>4</th>\n",
       "      <td>Marginally Effective</td>\n",
       "      <td>1</td>\n",
       "      <td>0.00</td>\n",
       "    </tr>\n",
       "  </tbody>\n",
       "</table>\n",
       "</div>"
      ],
      "text/plain": [
       "            effectiveness   count  %Reviews\n",
       "0        Highly Effective  212185     99.21\n",
       "1  Considerably Effective    1603      0.75\n",
       "2    Moderately Effective      60      0.03\n",
       "3             Ineffective      20      0.01\n",
       "4    Marginally Effective       1      0.00"
      ]
     },
     "execution_count": 84,
     "metadata": {},
     "output_type": "execute_result"
    }
   ],
   "source": [
    "ben_2 = pd.DataFrame(similar_data['effectiveness'].value_counts())\n",
    "ben_2.reset_index(inplace=True)\n",
    "ben_2.rename(columns={'index': 'effectiveness', 'effectiveness': 'count'}, inplace=True)\n",
    "ben_2['%Reviews'] = round((ben_2['count'] / ben_2['count'].sum()) * 100, 2)\n",
    "ben_2.sort_values(by='%Reviews', ascending=False)\n"
   ]
  },
  {
   "cell_type": "code",
   "execution_count": 56,
   "metadata": {},
   "outputs": [
    {
     "data": {
      "text/plain": [
       "<AxesSubplot:xlabel='count', ylabel='effectiveness'>"
      ]
     },
     "execution_count": 56,
     "metadata": {},
     "output_type": "execute_result"
    },
    {
     "data": {
      "image/png": "[encoded data removed]",
      "text/plain": [
       "<Figure size 432x288 with 1 Axes>"
      ]
     },
     "metadata": {},
     "output_type": "display_data"
    }
   ],
   "source": [
    "sns.countplot(y='effectiveness', data=similar_data,\n",
    "              order=['Highly Effective', 'Considerably Effective', 'Moderately Effective', 'Marginally Effective', 'Ineffective'], log=True)"
   ]
  },
  {
   "cell_type": "markdown",
   "metadata": {},
   "source": [
    "### Side Effects"
   ]
  },
  {
   "cell_type": "code",
   "execution_count": 51,
   "metadata": {},
   "outputs": [],
   "source": [
    "tfidf_2 = TfidfVectorizer(ngram_range=(1, 1), norm=None, use_idf=True, max_df=0.75)\n",
    "le = LabelEncoder()\n",
    "\n",
    "X_train_side = final_data['side_effects_review'].copy()\n",
    "y_train_side = final_data['side_effects'].copy()\n",
    "y_train_side = le.fit_transform(y_train_side)\n",
    "\n",
    "X_test_side = similar_data['review'].copy()\n",
    "\n",
    "X_train_side = tfidf_2.fit_transform(X_train_side)\n",
    "X_test_side = tfidf_2.transform(X_test_side)\n",
    "\n",
    "clf_side = SVC(C=10, gamma=0.001, kernel='rbf')\n",
    "clf_side.fit(X_train_side, y_train_side)\n",
    "y_pred_side = clf_side.predict(X_test_side)\n",
    "\n",
    "y_pred_side = le.inverse_transform(y_pred_side)\n",
    "\n",
    "similar_data['side_effects'] = y_pred_side"
   ]
  },
  {
   "cell_type": "code",
   "execution_count": 83,
   "metadata": {},
   "outputs": [
    {
     "data": {
      "text/html": [
       "<div>\n",
       "<style scoped>\n",
       "    .dataframe tbody tr th:only-of-type {\n",
       "        vertical-align: middle;\n",
       "    }\n",
       "\n",
       "    .dataframe tbody tr th {\n",
       "        vertical-align: top;\n",
       "    }\n",
       "\n",
       "    .dataframe thead th {\n",
       "        text-align: right;\n",
       "    }\n",
       "</style>\n",
       "<table border=\"1\" class=\"dataframe\">\n",
       "  <thead>\n",
       "    <tr style=\"text-align: right;\">\n",
       "      <th></th>\n",
       "      <th>side_effects</th>\n",
       "      <th>count</th>\n",
       "      <th>%Reviews</th>\n",
       "    </tr>\n",
       "  </thead>\n",
       "  <tbody>\n",
       "    <tr>\n",
       "      <th>0</th>\n",
       "      <td>Moderate Side Effects</td>\n",
       "      <td>72987</td>\n",
       "      <td>34.13</td>\n",
       "    </tr>\n",
       "    <tr>\n",
       "      <th>1</th>\n",
       "      <td>Mild Side Effects</td>\n",
       "      <td>56662</td>\n",
       "      <td>26.49</td>\n",
       "    </tr>\n",
       "    <tr>\n",
       "      <th>2</th>\n",
       "      <td>Severe Side Effects</td>\n",
       "      <td>42650</td>\n",
       "      <td>19.94</td>\n",
       "    </tr>\n",
       "    <tr>\n",
       "      <th>3</th>\n",
       "      <td>Extremely Severe Side Effects</td>\n",
       "      <td>23945</td>\n",
       "      <td>11.20</td>\n",
       "    </tr>\n",
       "    <tr>\n",
       "      <th>4</th>\n",
       "      <td>No Side Effects</td>\n",
       "      <td>17625</td>\n",
       "      <td>8.24</td>\n",
       "    </tr>\n",
       "  </tbody>\n",
       "</table>\n",
       "</div>"
      ],
      "text/plain": [
       "                    side_effects  count  %Reviews\n",
       "0          Moderate Side Effects  72987     34.13\n",
       "1              Mild Side Effects  56662     26.49\n",
       "2            Severe Side Effects  42650     19.94\n",
       "3  Extremely Severe Side Effects  23945     11.20\n",
       "4                No Side Effects  17625      8.24"
      ]
     },
     "execution_count": 83,
     "metadata": {},
     "output_type": "execute_result"
    }
   ],
   "source": [
    "side_2 = pd.DataFrame(similar_data['side_effects'].value_counts())\n",
    "side_2.reset_index(inplace=True)\n",
    "side_2.rename(columns={'index': 'side_effects', 'side_effects': 'count'}, inplace=True)\n",
    "side_2['%Reviews'] = round((side_2['count'] / side_2['count'].sum()) * 100, 2)\n",
    "side_2.sort_values(by='%Reviews', ascending=False)"
   ]
  },
  {
   "cell_type": "code",
   "execution_count": 59,
   "metadata": {},
   "outputs": [
    {
     "data": {
      "text/plain": [
       "<AxesSubplot:xlabel='count', ylabel='side_effects'>"
      ]
     },
     "execution_count": 59,
     "metadata": {},
     "output_type": "execute_result"
    },
    {
     "data": {
      "image/png": "[encoded data removed]",
      "text/plain": [
       "<Figure size 432x288 with 1 Axes>"
      ]
     },
     "metadata": {},
     "output_type": "display_data"
    }
   ],
   "source": [
    "sns.countplot(y='side_effects', data=similar_data,\n",
    "              order=['Extremely Severe Side Effects', 'Severe Side Effects', 'Moderate Side Effects', 'Mild Side Effects', 'No Side Effects'])\n"
   ]
  },
  {
   "cell_type": "markdown",
   "metadata": {},
   "source": [
    "### Type of text"
   ]
  },
  {
   "cell_type": "code",
   "execution_count": 53,
   "metadata": {},
   "outputs": [],
   "source": [
    "tfidf = TfidfVectorizer(ngram_range=(1, 1), norm='l2', use_idf=True, max_df=0.75)\n",
    "le = LabelEncoder()\n",
    "\n",
    "X_train_type = type_of_text_final['review'].copy()\n",
    "y_train_type = type_of_text_final['category'].copy()\n",
    "y_train_type = le.fit_transform(y_train_type)\n",
    "\n",
    "X_test_type = similar_data['review'].copy()\n",
    "\n",
    "X_train_type = tfidf.fit_transform(X_train_type)\n",
    "X_test_type = tfidf.transform(X_test_type)\n",
    "\n",
    "clf_type = SVC(C=10, gamma=1, kernel='rbf')\n",
    "clf_type.fit(X_train_type, y_train_type)\n",
    "y_pred_type = clf_type.predict(X_test_type)\n",
    "\n",
    "y_pred_type = le.inverse_transform(y_pred_type)\n",
    "\n",
    "similar_data['type'] = y_pred_type"
   ]
  },
  {
   "cell_type": "code",
   "execution_count": 63,
   "metadata": {},
   "outputs": [
    {
     "data": {
      "text/html": [
       "<div>\n",
       "<style scoped>\n",
       "    .dataframe tbody tr th:only-of-type {\n",
       "        vertical-align: middle;\n",
       "    }\n",
       "\n",
       "    .dataframe tbody tr th {\n",
       "        vertical-align: top;\n",
       "    }\n",
       "\n",
       "    .dataframe thead th {\n",
       "        text-align: right;\n",
       "    }\n",
       "</style>\n",
       "<table border=\"1\" class=\"dataframe\">\n",
       "  <thead>\n",
       "    <tr style=\"text-align: right;\">\n",
       "      <th></th>\n",
       "      <th>type</th>\n",
       "      <th>count</th>\n",
       "      <th>%Reviews</th>\n",
       "    </tr>\n",
       "  </thead>\n",
       "  <tbody>\n",
       "    <tr>\n",
       "      <th>0</th>\n",
       "      <td>General</td>\n",
       "      <td>104189</td>\n",
       "      <td>48.72</td>\n",
       "    </tr>\n",
       "    <tr>\n",
       "      <th>1</th>\n",
       "      <td>Side Effects</td>\n",
       "      <td>55335</td>\n",
       "      <td>25.87</td>\n",
       "    </tr>\n",
       "    <tr>\n",
       "      <th>2</th>\n",
       "      <td>Benefits</td>\n",
       "      <td>54345</td>\n",
       "      <td>25.41</td>\n",
       "    </tr>\n",
       "  </tbody>\n",
       "</table>\n",
       "</div>"
      ],
      "text/plain": [
       "           type   count  %Reviews\n",
       "0       General  104189     48.72\n",
       "1  Side Effects   55335     25.87\n",
       "2      Benefits   54345     25.41"
      ]
     },
     "execution_count": 63,
     "metadata": {},
     "output_type": "execute_result"
    }
   ],
   "source": [
    "type_2 = pd.DataFrame(similar_data['type'].value_counts())\n",
    "type_2.reset_index(inplace=True)\n",
    "type_2.rename(columns={'index': 'type', 'type': 'count'}, inplace=True)\n",
    "type_2['%Reviews'] = round((type_2['count'] / type_2['count'].sum()) * 100, 2)\n",
    "type_2.sort_values(by='%Reviews', ascending=False)"
   ]
  },
  {
   "cell_type": "code",
   "execution_count": 60,
   "metadata": {},
   "outputs": [
    {
     "data": {
      "text/plain": [
       "<AxesSubplot:xlabel='count', ylabel='type'>"
      ]
     },
     "execution_count": 60,
     "metadata": {},
     "output_type": "execute_result"
    },
    {
     "data": {
      "image/png": "[encoded data removed]",
      "text/plain": [
       "<Figure size 432x288 with 1 Axes>"
      ]
     },
     "metadata": {},
     "output_type": "display_data"
    }
   ],
   "source": [
    "sns.countplot(y='type', data=similar_data)"
   ]
  },
  {
   "cell_type": "markdown",
   "metadata": {},
   "source": [
    "### Conclusions\n",
    "\n",
    "- This dataset doesn't possess labels so, in order to evaluate the results, we will be assessing the % of entries classified as each class.\n",
    "- The benefits review classifier performed the worst, classifing almost all of the reviews as Highly Effective (99.2% on the DrugsCom dataset compared to 42% on the orignal dataset)\n",
    "- The results obtained by the side effects classifier were more inline with the results obtained on the original dataset.\n",
    "- It classified more reviews as 'Moderate Side Effects' and less reviews as 'No Side Effects', but apart from this the results were as expected \n",
    "- The type of text classifier also performed as expected. \n",
    "- It classified a bit more reviews as General than expected, but the variation is small."
   ]
  },
  {
   "cell_type": "code",
   "execution_count": 79,
   "metadata": {},
   "outputs": [
    {
     "data": {
      "text/html": [
       "<style type=\"text/css\">\n",
       "</style>\n",
       "<table id=\"T_e9cd2_\" style='display:inline'>\n",
       "  <caption>DrugsRaw Dataset</caption>\n",
       "  <thead>\n",
       "    <tr>\n",
       "      <th class=\"blank level0\" >&nbsp;</th>\n",
       "      <th class=\"col_heading level0 col0\" >effectiveness</th>\n",
       "      <th class=\"col_heading level0 col1\" >count</th>\n",
       "      <th class=\"col_heading level0 col2\" >%Reviews</th>\n",
       "    </tr>\n",
       "  </thead>\n",
       "  <tbody>\n",
       "    <tr>\n",
       "      <th id=\"T_e9cd2_level0_row0\" class=\"row_heading level0 row0\" >0</th>\n",
       "      <td id=\"T_e9cd2_row0_col0\" class=\"data row0 col0\" >Highly Effective</td>\n",
       "      <td id=\"T_e9cd2_row0_col1\" class=\"data row0 col1\" >1330</td>\n",
       "      <td id=\"T_e9cd2_row0_col2\" class=\"data row0 col2\" >42.810000</td>\n",
       "    </tr>\n",
       "    <tr>\n",
       "      <th id=\"T_e9cd2_level0_row1\" class=\"row_heading level0 row1\" >1</th>\n",
       "      <td id=\"T_e9cd2_row1_col0\" class=\"data row1 col0\" >Considerably Effective</td>\n",
       "      <td id=\"T_e9cd2_row1_col1\" class=\"data row1 col1\" >928</td>\n",
       "      <td id=\"T_e9cd2_row1_col2\" class=\"data row1 col2\" >29.870000</td>\n",
       "    </tr>\n",
       "    <tr>\n",
       "      <th id=\"T_e9cd2_level0_row2\" class=\"row_heading level0 row2\" >2</th>\n",
       "      <td id=\"T_e9cd2_row2_col0\" class=\"data row2 col0\" >Moderately Effective</td>\n",
       "      <td id=\"T_e9cd2_row2_col1\" class=\"data row2 col1\" >415</td>\n",
       "      <td id=\"T_e9cd2_row2_col2\" class=\"data row2 col2\" >13.360000</td>\n",
       "    </tr>\n",
       "    <tr>\n",
       "      <th id=\"T_e9cd2_level0_row3\" class=\"row_heading level0 row3\" >3</th>\n",
       "      <td id=\"T_e9cd2_row3_col0\" class=\"data row3 col0\" >Ineffective</td>\n",
       "      <td id=\"T_e9cd2_row3_col1\" class=\"data row3 col1\" >247</td>\n",
       "      <td id=\"T_e9cd2_row3_col2\" class=\"data row3 col2\" >7.950000</td>\n",
       "    </tr>\n",
       "    <tr>\n",
       "      <th id=\"T_e9cd2_level0_row4\" class=\"row_heading level0 row4\" >4</th>\n",
       "      <td id=\"T_e9cd2_row4_col0\" class=\"data row4 col0\" >Marginally Effective</td>\n",
       "      <td id=\"T_e9cd2_row4_col1\" class=\"data row4 col1\" >187</td>\n",
       "      <td id=\"T_e9cd2_row4_col2\" class=\"data row4 col2\" >6.020000</td>\n",
       "    </tr>\n",
       "  </tbody>\n",
       "</table>\n",
       "<style type=\"text/css\">\n",
       "</style>\n",
       "<table id=\"T_f06e9_\" style='display:inline'>\n",
       "  <caption>DrugsCom Dataset</caption>\n",
       "  <thead>\n",
       "    <tr>\n",
       "      <th class=\"blank level0\" >&nbsp;</th>\n",
       "      <th class=\"col_heading level0 col0\" >effectiveness</th>\n",
       "      <th class=\"col_heading level0 col1\" >count</th>\n",
       "      <th class=\"col_heading level0 col2\" >%Reviews</th>\n",
       "    </tr>\n",
       "  </thead>\n",
       "  <tbody>\n",
       "    <tr>\n",
       "      <th id=\"T_f06e9_level0_row0\" class=\"row_heading level0 row0\" >0</th>\n",
       "      <td id=\"T_f06e9_row0_col0\" class=\"data row0 col0\" >Highly Effective</td>\n",
       "      <td id=\"T_f06e9_row0_col1\" class=\"data row0 col1\" >212185</td>\n",
       "      <td id=\"T_f06e9_row0_col2\" class=\"data row0 col2\" >99.210000</td>\n",
       "    </tr>\n",
       "    <tr>\n",
       "      <th id=\"T_f06e9_level0_row1\" class=\"row_heading level0 row1\" >1</th>\n",
       "      <td id=\"T_f06e9_row1_col0\" class=\"data row1 col0\" >Considerably Effective</td>\n",
       "      <td id=\"T_f06e9_row1_col1\" class=\"data row1 col1\" >1603</td>\n",
       "      <td id=\"T_f06e9_row1_col2\" class=\"data row1 col2\" >0.750000</td>\n",
       "    </tr>\n",
       "    <tr>\n",
       "      <th id=\"T_f06e9_level0_row2\" class=\"row_heading level0 row2\" >2</th>\n",
       "      <td id=\"T_f06e9_row2_col0\" class=\"data row2 col0\" >Moderately Effective</td>\n",
       "      <td id=\"T_f06e9_row2_col1\" class=\"data row2 col1\" >60</td>\n",
       "      <td id=\"T_f06e9_row2_col2\" class=\"data row2 col2\" >0.030000</td>\n",
       "    </tr>\n",
       "    <tr>\n",
       "      <th id=\"T_f06e9_level0_row3\" class=\"row_heading level0 row3\" >3</th>\n",
       "      <td id=\"T_f06e9_row3_col0\" class=\"data row3 col0\" >Ineffective</td>\n",
       "      <td id=\"T_f06e9_row3_col1\" class=\"data row3 col1\" >20</td>\n",
       "      <td id=\"T_f06e9_row3_col2\" class=\"data row3 col2\" >0.010000</td>\n",
       "    </tr>\n",
       "    <tr>\n",
       "      <th id=\"T_f06e9_level0_row4\" class=\"row_heading level0 row4\" >4</th>\n",
       "      <td id=\"T_f06e9_row4_col0\" class=\"data row4 col0\" >Marginally Effective</td>\n",
       "      <td id=\"T_f06e9_row4_col1\" class=\"data row4 col1\" >1</td>\n",
       "      <td id=\"T_f06e9_row4_col2\" class=\"data row4 col2\" >0.000000</td>\n",
       "    </tr>\n",
       "  </tbody>\n",
       "</table>\n"
      ]
     },
     "metadata": {},
     "output_type": "display_data"
    }
   ],
   "source": [
    "df1_styler = effective.style.set_table_attributes(\"style='display:inline'\").set_caption('DrugsRaw Dataset')\n",
    "df2_styler = ben_2.style.set_table_attributes(\"style='display:inline'\").set_caption('DrugsCom Dataset')\n",
    "\n",
    "display_html(df1_styler._repr_html_()+df2_styler._repr_html_(), raw=True)"
   ]
  },
  {
   "cell_type": "code",
   "execution_count": 109,
   "metadata": {},
   "outputs": [
    {
     "data": {
      "image/png": "[encoded data removed]",
      "text/plain": [
       "<Figure size 720x288 with 2 Axes>"
      ]
     },
     "metadata": {},
     "output_type": "display_data"
    }
   ],
   "source": [
    "fig, axes = plt.subplots(1, 2, figsize=(10,4))\n",
    "fig.suptitle('Benefits Review Results')\n",
    "\n",
    "sns.countplot(ax=axes[0], y='effectiveness', data=final_data,\n",
    "              order=['Highly Effective', 'Considerably Effective', 'Moderately Effective', 'Marginally Effective', 'Ineffective'])\n",
    "axes[0].set_title('DrugsRaw Dataset')\n",
    "sns.countplot(ax=axes[1], y='effectiveness', data=similar_data,\n",
    "              order=['Highly Effective', 'Considerably Effective', 'Moderately Effective', 'Marginally Effective', 'Ineffective'], log=True)\n",
    "axes[1].set_title('DrugsCom Dataset')\n",
    "fig.tight_layout()"
   ]
  },
  {
   "cell_type": "code",
   "execution_count": 80,
   "metadata": {},
   "outputs": [
    {
     "data": {
      "text/html": [
       "<style type=\"text/css\">\n",
       "</style>\n",
       "<table id=\"T_19457_\" style='display:inline'>\n",
       "  <caption>DrugsRaw Dataset</caption>\n",
       "  <thead>\n",
       "    <tr>\n",
       "      <th class=\"blank level0\" >&nbsp;</th>\n",
       "      <th class=\"col_heading level0 col0\" >side_effects</th>\n",
       "      <th class=\"col_heading level0 col1\" >count</th>\n",
       "      <th class=\"col_heading level0 col2\" >%Reviews</th>\n",
       "    </tr>\n",
       "  </thead>\n",
       "  <tbody>\n",
       "    <tr>\n",
       "      <th id=\"T_19457_level0_row0\" class=\"row_heading level0 row0\" >0</th>\n",
       "      <td id=\"T_19457_row0_col0\" class=\"data row0 col0\" >Mild Side Effects</td>\n",
       "      <td id=\"T_19457_row0_col1\" class=\"data row0 col1\" >1019</td>\n",
       "      <td id=\"T_19457_row0_col2\" class=\"data row0 col2\" >32.800000</td>\n",
       "    </tr>\n",
       "    <tr>\n",
       "      <th id=\"T_19457_level0_row1\" class=\"row_heading level0 row1\" >1</th>\n",
       "      <td id=\"T_19457_row1_col0\" class=\"data row1 col0\" >No Side Effects</td>\n",
       "      <td id=\"T_19457_row1_col1\" class=\"data row1 col1\" >930</td>\n",
       "      <td id=\"T_19457_row1_col2\" class=\"data row1 col2\" >29.930000</td>\n",
       "    </tr>\n",
       "    <tr>\n",
       "      <th id=\"T_19457_level0_row2\" class=\"row_heading level0 row2\" >2</th>\n",
       "      <td id=\"T_19457_row2_col0\" class=\"data row2 col0\" >Moderate Side Effects</td>\n",
       "      <td id=\"T_19457_row2_col1\" class=\"data row2 col1\" >614</td>\n",
       "      <td id=\"T_19457_row2_col2\" class=\"data row2 col2\" >19.760000</td>\n",
       "    </tr>\n",
       "    <tr>\n",
       "      <th id=\"T_19457_level0_row3\" class=\"row_heading level0 row3\" >3</th>\n",
       "      <td id=\"T_19457_row3_col0\" class=\"data row3 col0\" >Severe Side Effects</td>\n",
       "      <td id=\"T_19457_row3_col1\" class=\"data row3 col1\" >369</td>\n",
       "      <td id=\"T_19457_row3_col2\" class=\"data row3 col2\" >11.880000</td>\n",
       "    </tr>\n",
       "    <tr>\n",
       "      <th id=\"T_19457_level0_row4\" class=\"row_heading level0 row4\" >4</th>\n",
       "      <td id=\"T_19457_row4_col0\" class=\"data row4 col0\" >Extremely Severe Side Effects</td>\n",
       "      <td id=\"T_19457_row4_col1\" class=\"data row4 col1\" >175</td>\n",
       "      <td id=\"T_19457_row4_col2\" class=\"data row4 col2\" >5.630000</td>\n",
       "    </tr>\n",
       "  </tbody>\n",
       "</table>\n",
       "<style type=\"text/css\">\n",
       "</style>\n",
       "<table id=\"T_d20ba_\" style='display:inline'>\n",
       "  <caption>DrugsCom Dataset</caption>\n",
       "  <thead>\n",
       "    <tr>\n",
       "      <th class=\"blank level0\" >&nbsp;</th>\n",
       "      <th class=\"col_heading level0 col0\" >side_effects</th>\n",
       "      <th class=\"col_heading level0 col1\" >count</th>\n",
       "      <th class=\"col_heading level0 col2\" >%Reviews</th>\n",
       "    </tr>\n",
       "  </thead>\n",
       "  <tbody>\n",
       "    <tr>\n",
       "      <th id=\"T_d20ba_level0_row0\" class=\"row_heading level0 row0\" >0</th>\n",
       "      <td id=\"T_d20ba_row0_col0\" class=\"data row0 col0\" >Moderate Side Effects</td>\n",
       "      <td id=\"T_d20ba_row0_col1\" class=\"data row0 col1\" >72987</td>\n",
       "      <td id=\"T_d20ba_row0_col2\" class=\"data row0 col2\" >34.130000</td>\n",
       "    </tr>\n",
       "    <tr>\n",
       "      <th id=\"T_d20ba_level0_row1\" class=\"row_heading level0 row1\" >1</th>\n",
       "      <td id=\"T_d20ba_row1_col0\" class=\"data row1 col0\" >Mild Side Effects</td>\n",
       "      <td id=\"T_d20ba_row1_col1\" class=\"data row1 col1\" >56662</td>\n",
       "      <td id=\"T_d20ba_row1_col2\" class=\"data row1 col2\" >26.490000</td>\n",
       "    </tr>\n",
       "    <tr>\n",
       "      <th id=\"T_d20ba_level0_row2\" class=\"row_heading level0 row2\" >2</th>\n",
       "      <td id=\"T_d20ba_row2_col0\" class=\"data row2 col0\" >Severe Side Effects</td>\n",
       "      <td id=\"T_d20ba_row2_col1\" class=\"data row2 col1\" >42650</td>\n",
       "      <td id=\"T_d20ba_row2_col2\" class=\"data row2 col2\" >19.940000</td>\n",
       "    </tr>\n",
       "    <tr>\n",
       "      <th id=\"T_d20ba_level0_row3\" class=\"row_heading level0 row3\" >3</th>\n",
       "      <td id=\"T_d20ba_row3_col0\" class=\"data row3 col0\" >Extremely Severe Side Effects</td>\n",
       "      <td id=\"T_d20ba_row3_col1\" class=\"data row3 col1\" >23945</td>\n",
       "      <td id=\"T_d20ba_row3_col2\" class=\"data row3 col2\" >11.200000</td>\n",
       "    </tr>\n",
       "    <tr>\n",
       "      <th id=\"T_d20ba_level0_row4\" class=\"row_heading level0 row4\" >4</th>\n",
       "      <td id=\"T_d20ba_row4_col0\" class=\"data row4 col0\" >No Side Effects</td>\n",
       "      <td id=\"T_d20ba_row4_col1\" class=\"data row4 col1\" >17625</td>\n",
       "      <td id=\"T_d20ba_row4_col2\" class=\"data row4 col2\" >8.240000</td>\n",
       "    </tr>\n",
       "  </tbody>\n",
       "</table>\n"
      ]
     },
     "metadata": {},
     "output_type": "display_data"
    }
   ],
   "source": [
    "df3_styler = side.style.set_table_attributes(\n",
    "    \"style='display:inline'\").set_caption('DrugsRaw Dataset')\n",
    "df4_styler = side_2.style.set_table_attributes(\n",
    "    \"style='display:inline'\").set_caption('DrugsCom Dataset')\n",
    "\n",
    "display_html(df3_styler._repr_html_()+df4_styler._repr_html_(), raw=True)\n"
   ]
  },
  {
   "cell_type": "code",
   "execution_count": 110,
   "metadata": {},
   "outputs": [
    {
     "data": {
      "image/png": "[encoded data removed]",
      "text/plain": [
       "<Figure size 720x288 with 2 Axes>"
      ]
     },
     "metadata": {},
     "output_type": "display_data"
    }
   ],
   "source": [
    "fig, axes = plt.subplots(1, 2, figsize=(10, 4))\n",
    "fig.suptitle('Side Effects Review Results')\n",
    "\n",
    "sns.countplot(ax=axes[0], y='side_effects', data=final_data,\n",
    "              order=['Extremely Severe Side Effects', 'Severe Side Effects', 'Moderate Side Effects', 'Mild Side Effects', 'No Side Effects'])\n",
    "axes[0].set_title('DrugsRaw Dataset')\n",
    "\n",
    "sns.countplot(ax=axes[1], y='side_effects', data=similar_data,\n",
    "              order=['Extremely Severe Side Effects', 'Severe Side Effects', 'Moderate Side Effects', 'Mild Side Effects', 'No Side Effects'])\n",
    "axes[1].set_title('DrugsCom Dataset')\n",
    "fig.tight_layout()\n"
   ]
  },
  {
   "cell_type": "code",
   "execution_count": 112,
   "metadata": {},
   "outputs": [
    {
     "data": {
      "image/png": "[encoded data removed]",
      "text/plain": [
       "<Figure size 720x288 with 2 Axes>"
      ]
     },
     "metadata": {},
     "output_type": "display_data"
    }
   ],
   "source": [
    "fig, axes = plt.subplots(1, 2, figsize=(10, 4))\n",
    "fig.suptitle('Side Effects Review Results')\n",
    "\n",
    "sns.countplot(ax=axes[0], y='category', data=type_of_text_final, order=['General', 'Benefits', 'Side Effects'])\n",
    "axes[0].set_title('DrugsRaw Dataset')\n",
    "\n",
    "sns.countplot(ax=axes[1], y='type', data=similar_data,\n",
    "              order=['General', 'Benefits', 'Side Effects'])\n",
    "axes[1].set_title('DrugsCom Dataset')\n",
    "\n",
    "fig.tight_layout()"
   ]
  },
  {
   "cell_type": "markdown",
   "metadata": {},
   "source": [
    "## Sentiment Analysis"
   ]
  },
  {
   "cell_type": "code",
   "execution_count": null,
   "metadata": {},
   "outputs": [],
   "source": []
  }
 ],
 "metadata": {
  "interpreter": {
   "hash": "f77e6bc2d225f99816d788c5a4a60bbea5b0f9a625286da74699d4a3f8b02a8d"
  },
  "kernelspec": {
   "display_name": "Python 3.8.2 64-bit ('base': conda)",
   "language": "python",
   "name": "python3"
  },
  "language_info": {
   "codemirror_mode": {
    "name": "ipython",
    "version": 3
   },
   "file_extension": ".py",
   "mimetype": "text/x-python",
   "name": "python",
   "nbconvert_exporter": "python",
   "pygments_lexer": "ipython3",
   "version": "3.8.2"
  },
  "orig_nbformat": 4
 },
 "nbformat": 4,
 "nbformat_minor": 2
}
